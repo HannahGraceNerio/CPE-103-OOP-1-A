{
  "nbformat": 4,
  "nbformat_minor": 0,
  "metadata": {
    "colab": {
      "provenance": [],
      "authorship_tag": "ABX9TyNXFDRk6i9W35IXegsPSUpK",
      "include_colab_link": true
    },
    "kernelspec": {
      "name": "python3",
      "display_name": "Python 3"
    },
    "language_info": {
      "name": "python"
    }
  },
  "cells": [
    {
      "cell_type": "markdown",
      "metadata": {
        "id": "view-in-github",
        "colab_type": "text"
      },
      "source": [
        "<a href=\"https://colab.research.google.com/github/HannahGraceNerio/CPE-103-OOP-1-A/blob/main/Variables_and_Data_Types.ipynb\" target=\"_parent\"><img src=\"https://colab.research.google.com/assets/colab-badge.svg\" alt=\"Open In Colab\"/></a>"
      ]
    },
    {
      "cell_type": "markdown",
      "source": [
        "NUMBERS"
      ],
      "metadata": {
        "id": "D4i4Y32NGhIF"
      }
    },
    {
      "cell_type": "code",
      "source": [
        "varNum = 123\n",
        "pi = 3.14159\n",
        "\n",
        "varString = \"Hello World!\"\n",
        "varTest = 'This is a String'\n",
        "\n",
        "varList = [\"abc\", 123]\n",
        "\n",
        "varTuple = (\"abc\", 123, \"HELLO\")\n",
        "\n",
        "var = 3\n",
        "varDict = {'First':1, '2': '2nd', 3:var}"
      ],
      "metadata": {
        "id": "hbt-2nsgGjWN"
      },
      "execution_count": 1,
      "outputs": []
    },
    {
      "cell_type": "markdown",
      "source": [
        "ARITHMETIC"
      ],
      "metadata": {
        "id": "7WrqBL5UGoGF"
      }
    },
    {
      "cell_type": "code",
      "source": [
        "#ADDITION\n",
        "a = 5 + 3\n",
        "\n",
        "#SUBTRACTION\n",
        "b = 5 - 3\n",
        "\n",
        "#MULTIPLICATION\n",
        "c = 5 * 3\n",
        "\n",
        "#EXPONENT\n",
        "d = 5 ** 3\n",
        "\n",
        "#DIVISION\n",
        "e = 5 / 3\n",
        "\n",
        "f = 5 / 3\n",
        "\n",
        "g = 5 // 3\n",
        "\n",
        "print (a)\n",
        "print (b)\n",
        "print (c)\n",
        "print (d)\n",
        "print (e)\n",
        "print (f)\n",
        "print (g)"
      ],
      "metadata": {
        "colab": {
          "base_uri": "https://localhost:8080/"
        },
        "id": "eLPff8pYGqfW",
        "outputId": "0cfba066-cc61-4d85-e9ae-2912c18f0cbe"
      },
      "execution_count": 2,
      "outputs": [
        {
          "output_type": "stream",
          "name": "stdout",
          "text": [
            "8\n",
            "2\n",
            "15\n",
            "125\n",
            "1.6666666666666667\n",
            "1.6666666666666667\n",
            "1\n"
          ]
        }
      ]
    },
    {
      "cell_type": "markdown",
      "source": [
        "ARITHMETIC"
      ],
      "metadata": {
        "id": "X5bYEjqFGuGs"
      }
    },
    {
      "cell_type": "code",
      "source": [
        "#INCREMENT/DECREMENT\n",
        "a = 5\n",
        "a += 1\n",
        "\n",
        "#DECREMENT\n",
        "b = 5\n",
        "b -= 1\n",
        "\n",
        "#STRING CONCATENATION\n",
        "c = 'Hello' + 'World!'\n",
        "\n",
        "#COMPLEX EXPRESSIONS\n",
        "d = 3 + 5 - 6 * 2 / 4\n",
        "\n",
        "print (a)\n",
        "print (b)\n",
        "print (c)\n",
        "print (d)"
      ],
      "metadata": {
        "colab": {
          "base_uri": "https://localhost:8080/"
        },
        "id": "aVREri1kGwDE",
        "outputId": "27fa9319-7980-4081-b699-f6ab69451596"
      },
      "execution_count": 3,
      "outputs": [
        {
          "output_type": "stream",
          "name": "stdout",
          "text": [
            "6\n",
            "4\n",
            "HelloWorld!\n",
            "5.0\n"
          ]
        }
      ]
    },
    {
      "cell_type": "markdown",
      "source": [
        "CONDITIONAL STATEMENTS"
      ],
      "metadata": {
        "id": "pBmqA3teGziF"
      }
    },
    {
      "cell_type": "code",
      "source": [
        "#BOOLEAN CONDITIONS\n",
        "x = True\n",
        "if x:\n",
        "  print (\"var x is True\")\n",
        "else:\n",
        "  print (\"var x is False\")\n",
        "\n",
        "#STRING CONDITIONS\n",
        "x = \"Hello World!\"\n",
        "if x == 'Hello World!':\n",
        "  print (\"var x is Hello World!\")\n",
        "else:\n",
        "  print (\"var x is not Hello World!\")\n",
        "\n",
        "#NUMERICAL CONDITIONS\n",
        "x = 10\n",
        "if x == '10':\n",
        "  print (\"var x is a string\")\n",
        "elif x == 10:\n",
        "  print (\"var x is a integer\")\n",
        "else:\n",
        "  print (\"var x is none of the above\")"
      ],
      "metadata": {
        "colab": {
          "base_uri": "https://localhost:8080/"
        },
        "id": "WmINwrX1G1LV",
        "outputId": "df1fbc0e-9d9f-4f38-e92e-d3f38739e238"
      },
      "execution_count": 4,
      "outputs": [
        {
          "output_type": "stream",
          "name": "stdout",
          "text": [
            "var x is True\n",
            "var x is Hello World!\n",
            "var x is a integer\n"
          ]
        }
      ]
    },
    {
      "cell_type": "markdown",
      "source": [
        "LOOPS"
      ],
      "metadata": {
        "id": "-YDSAw1pG4BF"
      }
    },
    {
      "cell_type": "code",
      "source": [
        "#FOR LOOPS\n",
        "for var in range (0, 5, 2):\n",
        "  print (var)\n",
        "\n",
        "#WHILE LOOPS\n",
        "var = 0\n",
        "while var < 5:\n",
        "  print (var)\n",
        "  var += 2\n",
        "\n",
        "#NESTED LOOPS\n",
        "x = 0\n",
        "while x < 5:\n",
        "  for y in range (0, x):\n",
        "   print (y, end='')\n",
        "  x += 1\n",
        "  print ()"
      ],
      "metadata": {
        "colab": {
          "base_uri": "https://localhost:8080/"
        },
        "id": "uhxMC6DxG6SN",
        "outputId": "8b7697c6-0a51-41e4-8995-4eb445cd57ac"
      },
      "execution_count": 5,
      "outputs": [
        {
          "output_type": "stream",
          "name": "stdout",
          "text": [
            "0\n",
            "2\n",
            "4\n",
            "0\n",
            "2\n",
            "4\n",
            "\n",
            "0\n",
            "01\n",
            "012\n",
            "0123\n"
          ]
        }
      ]
    },
    {
      "cell_type": "markdown",
      "source": [
        "FUNCTIONS"
      ],
      "metadata": {
        "id": "17LDW4WPG9DU"
      }
    },
    {
      "cell_type": "code",
      "source": [
        "def remainder (n, m):\n",
        "  while True :\n",
        "    if n - m < 0:\n",
        "      return n\n",
        "    else :\n",
        "      n = n -m\n",
        "remainder (10, 4)"
      ],
      "metadata": {
        "colab": {
          "base_uri": "https://localhost:8080/"
        },
        "id": "7PzHckbEG_IV",
        "outputId": "7a6b7711-efba-407c-d1e6-27ecd43b52ee"
      },
      "execution_count": 6,
      "outputs": [
        {
          "output_type": "execute_result",
          "data": {
            "text/plain": [
              "2"
            ]
          },
          "metadata": {},
          "execution_count": 6
        }
      ]
    },
    {
      "cell_type": "markdown",
      "source": [
        "LIST"
      ],
      "metadata": {
        "id": "fEqnbIOfHB1l"
      }
    },
    {
      "cell_type": "code",
      "source": [
        "pi = 3.14159\n",
        "varList = [1, 2, 'A', 'B', 'Hello', pi, 'World']\n",
        "print (varList[0])\n",
        "\n",
        "print (varList[4])\n",
        "\n",
        "varList.append ('World!')\n",
        "print(varList[6])\n",
        "\n",
        "len(varList)\n",
        "\n",
        "print (varList[5])\n",
        "\n",
        "varList.remove(pi)\n",
        "print(varList[5])"
      ],
      "metadata": {
        "colab": {
          "base_uri": "https://localhost:8080/"
        },
        "id": "e7Yn9wnlHDT9",
        "outputId": "5027dc15-eb8c-4f81-89c8-b9707450d5bc"
      },
      "execution_count": 7,
      "outputs": [
        {
          "output_type": "stream",
          "name": "stdout",
          "text": [
            "1\n",
            "Hello\n",
            "World\n",
            "3.14159\n",
            "World\n"
          ]
        }
      ]
    },
    {
      "cell_type": "markdown",
      "source": [
        "DICTIONARIES"
      ],
      "metadata": {
        "id": "XrBcF0HeHF4E"
      }
    },
    {
      "cell_type": "code",
      "source": [
        "var = \"Hello World!\"\n",
        "varDict = {'first': 123, 2 : 'abc',\n",
        "           '3' : var, 4 : ['lista', 'listb']}\n",
        "print (varDict['first'])\n",
        "\n",
        "print (varDict[2])\n",
        "\n",
        "print (varDict['3'])\n",
        "\n",
        "print (varDict[4])\n",
        "\n",
        "print (varDict[4][1])\n",
        "\n",
        "len (varDict)"
      ],
      "metadata": {
        "colab": {
          "base_uri": "https://localhost:8080/"
        },
        "id": "AhO8Kh71HHgc",
        "outputId": "f89bab7b-b8ca-4d30-e2d9-113e2bc9d130"
      },
      "execution_count": 8,
      "outputs": [
        {
          "output_type": "stream",
          "name": "stdout",
          "text": [
            "123\n",
            "abc\n",
            "Hello World!\n",
            "['lista', 'listb']\n",
            "listb\n"
          ]
        },
        {
          "output_type": "execute_result",
          "data": {
            "text/plain": [
              "4"
            ]
          },
          "metadata": {},
          "execution_count": 8
        }
      ]
    },
    {
      "cell_type": "markdown",
      "source": [
        "LIST GENERATORS AND COMPREHENSION"
      ],
      "metadata": {
        "id": "O1sT67vdHKKc"
      }
    },
    {
      "cell_type": "code",
      "source": [
        "def gen_num_up_to(n):\n",
        "  num = 0\n",
        "  while num < n :\n",
        "    yield num\n",
        "    num += 1\n",
        "\n",
        "gen_num_up_to(5)\n",
        "\n",
        "varList = gen_num_up_to(5)\n",
        "print ([var for var in varList])\n",
        "\n",
        "def gen_num_up_to(n):\n",
        "  num = 0\n",
        "  while num < n:\n",
        "    yield num\n",
        "    num += 2\n",
        "\n",
        "varList = gen_num_up_to(5)\n",
        "print ([var for var in varList])\n",
        "\n",
        "varList = range (0, 5, 2)\n",
        "print ([var for var in varList])\n"
      ],
      "metadata": {
        "colab": {
          "base_uri": "https://localhost:8080/"
        },
        "id": "3HG5UIOdHRbE",
        "outputId": "317aec53-7d03-4599-aab1-e218ae40ccac"
      },
      "execution_count": 10,
      "outputs": [
        {
          "output_type": "stream",
          "name": "stdout",
          "text": [
            "[0, 1, 2, 3, 4]\n",
            "[0, 2, 4]\n",
            "[0, 2, 4]\n"
          ]
        }
      ]
    },
    {
      "cell_type": "markdown",
      "source": [
        "SLICING"
      ],
      "metadata": {
        "id": "qmElEkRBIAwt"
      }
    },
    {
      "cell_type": "code",
      "source": [
        "varList = [1, 2, 3, 4, 5, 6, 7, 8, 9, 10]\n",
        "print (varList[:5])\n",
        "\n",
        "print (varList[5:])\n",
        "\n",
        "print (varList[:-2])\n",
        "\n",
        "print (varList[-2:])\n",
        "\n",
        "print (varList[2:-2])\n",
        "\n",
        "print (varList[2:8:2])"
      ],
      "metadata": {
        "colab": {
          "base_uri": "https://localhost:8080/"
        },
        "id": "qGHAnAZ5IC1l",
        "outputId": "171c10db-8ac9-45e8-c9f0-3726a6e3cdc0"
      },
      "execution_count": 12,
      "outputs": [
        {
          "output_type": "stream",
          "name": "stdout",
          "text": [
            "[1, 2, 3, 4, 5]\n",
            "[6, 7, 8, 9, 10]\n",
            "[1, 2, 3, 4, 5, 6, 7, 8]\n",
            "[9, 10]\n",
            "[3, 4, 5, 6, 7, 8]\n",
            "[3, 5, 7]\n"
          ]
        }
      ]
    }
  ]
}