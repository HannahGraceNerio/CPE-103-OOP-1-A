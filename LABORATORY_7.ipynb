{
  "nbformat": 4,
  "nbformat_minor": 0,
  "metadata": {
    "colab": {
      "provenance": [],
      "authorship_tag": "ABX9TyN7g8gtaD+YYHmQlwJdyHa6",
      "include_colab_link": true
    },
    "kernelspec": {
      "name": "python3",
      "display_name": "Python 3"
    },
    "language_info": {
      "name": "python"
    }
  },
  "cells": [
    {
      "cell_type": "markdown",
      "metadata": {
        "id": "view-in-github",
        "colab_type": "text"
      },
      "source": [
        "<a href=\"https://colab.research.google.com/github/HannahGraceNerio/CPE-103-OOP-1-A/blob/main/LABORATORY_7.ipynb\" target=\"_parent\"><img src=\"https://colab.research.google.com/assets/colab-badge.svg\" alt=\"Open In Colab\"/></a>"
      ]
    },
    {
      "cell_type": "code",
      "source": [
        "class distance:\n",
        "    def __init__(self, f,i):\n",
        "        self.feet=f\n",
        "        self.inches=i\n",
        "\n",
        "    # overloading of binary operator > to compare two distances\n",
        "    def __gt__(self,d):\n",
        "        if(self.feet>d.feet):\n",
        "            return(True)\n",
        "        elif((self.feet==d.feet) and (self.inches>d.inches)):\n",
        "            return(True)\n",
        "        else:\n",
        "            return(False)\n",
        "\n",
        "    # overloading of binary operator + to add two distances\n",
        "    def __add__(self, d):\n",
        "        i=self.inches + d.inches\n",
        "        f=self.feet + d.feet\n",
        "        if(i>=12):\n",
        "            i=i-12\n",
        "            f=f+1\n",
        "        return distance(f,i)\n",
        "\n",
        "    # displaying the distance\n",
        "    def __show__(self):\n",
        "        print(\"Feet= \", self.feet, \"Inches= \",self.inches)\n",
        "\n",
        "# Get input for distance1 and split it into feet and inches\n",
        "a, b = input(\"Enter feet and inches of distance1 (separated by space): \").split()\n",
        "# Convert feet and inches to integers, handling potential ValueErrors\n",
        "try:\n",
        "    a, b = [int(a), int(b)]\n",
        "except ValueError:\n",
        "    print(\"Invalid input. Please enter numbers for feet and inches.\")\n",
        "    # You might want to exit or re-prompt for input here\n",
        "\n",
        "# Get input for distance2 and split it into feet and inches\n",
        "c, d = input(\"Enter feet and inches of distance2 (separated by space): \").split()\n",
        "# Convert feet and inches to integers, handling potential ValueErrors\n",
        "try:\n",
        "    c, d = [int(c), int(d)]\n",
        "except ValueError:\n",
        "    print(\"Invalid input. Please enter numbers for feet and inches.\")\n",
        "    # You might want to exit or re-prompt for input here\n",
        "\n",
        "d1 = distance(a,b)\n",
        "d2 = distance(c,d)\n",
        "\n",
        "if(d1>d2):\n",
        "    print(\"Distance1 is greater than Distance2\")\n",
        "else:\n",
        "    print(\"Distance2 is greater or equal to Distance1\")\n",
        "d3=d1+d2\n",
        "print(\"Sum of the two Distance is:\")\n",
        "d3.__show__()"
      ],
      "metadata": {
        "colab": {
          "base_uri": "https://localhost:8080/"
        },
        "id": "D1EXvi5XfGL4",
        "outputId": "fe057959-c4fa-404b-9dc3-219f1c97aa94"
      },
      "execution_count": null,
      "outputs": [
        {
          "output_type": "stream",
          "name": "stdout",
          "text": [
            "Enter feet and inches of distance1 (separated by space): 15 21\n",
            "Enter feet and inches of distance2 (separated by space): 12 21\n",
            "Distance1 is greater than Distance2\n",
            "Sum of the two Distance is:\n",
            "Feet=  28 Inches=  30\n"
          ]
        }
      ]
    },
    {
      "cell_type": "code",
      "source": [
        "class RegularPolygon:\n",
        "    def __init__(self, side):\n",
        "        self._side = side\n",
        "\n",
        "class Square(RegularPolygon):\n",
        "    def area(self):\n",
        "        return self._side * self._side\n",
        "\n",
        "class EquilateralTriangle(RegularPolygon):\n",
        "    def area(self):\n",
        "        return self._side * self._side * 0.433\n",
        "\n",
        "obj1 = Square(4)\n",
        "obj2 = EquilateralTriangle(3)\n",
        "\n",
        "print(obj1.area())\n",
        "print(obj2.area())\n"
      ],
      "metadata": {
        "colab": {
          "base_uri": "https://localhost:8080/"
        },
        "id": "4GA3ohHYfvTJ",
        "outputId": "77cba254-9108-4187-9042-f7fa583c18de"
      },
      "execution_count": null,
      "outputs": [
        {
          "output_type": "stream",
          "name": "stdout",
          "text": [
            "16\n",
            "3.897\n"
          ]
        }
      ]
    },
    {
      "cell_type": "markdown",
      "source": [
        "SUPPLEMENTARY ACTIVITY"
      ],
      "metadata": {
        "id": "x-lzkdMiRDFP"
      }
    },
    {
      "cell_type": "code",
      "source": [
        "import math\n",
        "\n",
        "class RegularPolygon:\n",
        "    def __init__(self, side):\n",
        "        self._side = side\n",
        "\n",
        "class Rectangle:\n",
        "    def __init__(self, length, width):\n",
        "        self.length = length\n",
        "        self.width = width\n",
        "#Unlike the other shapes, the Rectangle class does not inherit from RegularPolygon because it requires two attributes: length and width. The area is computed using the formula Area = length × width, making it straightforward yet distinct from regular polygons.\n",
        "\n",
        "    def area(self):\n",
        "        return self.length * self.width\n",
        "\n",
        "class Pentagon(RegularPolygon):\n",
        "    def area(self):\n",
        "        return (5 * self._side * self._side) / (4 * math.tan(math.pi / 5))\n",
        "#The Pentagon class extends RegularPolygon and computes its area using the formula Area = (5 × side²) / (4 × tan(π/5))  The class benefits from inheritance by reusing the _side attribute, simplifying its design.\n",
        "\n",
        "class Hexagon(RegularPolygon):\n",
        "    def area(self):\n",
        "        return (3 * math.sqrt(3) * self._side * self._side) / 2\n",
        "#The Hexagon class also extends RegularPolygon and calculates its area using the formula Area = (3 × √3 × side²) / 2 The use of inheritance keeps the code clean and modular, allowing easy extension to other polygons with similar properties.\n",
        "\n",
        "# Creating objects with appropriate side lengths\n",
        "obj1 = Rectangle(4, 6)\n",
        "obj2= Pentagon(5)\n",
        "obj3 = Hexagon(6)\n",
        "\n",
        "# Printing areas\n",
        "print(f\"Rectangle Area: {obj1.area():.2f}\")\n",
        "print(f\"Pentagon Area: {obj2.area():.2f}\")\n",
        "print(f\"Hexagon Area: {obj3.area():.2f}\")\n"
      ],
      "metadata": {
        "colab": {
          "base_uri": "https://localhost:8080/"
        },
        "id": "kcn8py8fRF1p",
        "outputId": "d5d30f71-dc14-4cc1-8e58-0766327c60dd"
      },
      "execution_count": 2,
      "outputs": [
        {
          "output_type": "stream",
          "name": "stdout",
          "text": [
            "Rectangle Area: 24.00\n",
            "Pentagon Area: 43.01\n",
            "Hexagon Area: 93.53\n"
          ]
        }
      ]
    }
  ]
}