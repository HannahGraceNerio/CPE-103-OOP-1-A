{
  "nbformat": 4,
  "nbformat_minor": 0,
  "metadata": {
    "colab": {
      "provenance": [],
      "authorship_tag": "ABX9TyOWBCy2IfqyG2cZSpNQepiV",
      "include_colab_link": true
    },
    "kernelspec": {
      "name": "python3",
      "display_name": "Python 3"
    },
    "language_info": {
      "name": "python"
    }
  },
  "cells": [
    {
      "cell_type": "markdown",
      "metadata": {
        "id": "view-in-github",
        "colab_type": "text"
      },
      "source": [
        "<a href=\"https://colab.research.google.com/github/HannahGraceNerio/CPE-103-OOP-1-A/blob/main/Operations_and_Expressions_in_Python.ipynb\" target=\"_parent\"><img src=\"https://colab.research.google.com/assets/colab-badge.svg\" alt=\"Open In Colab\"/></a>"
      ]
    },
    {
      "cell_type": "markdown",
      "source": [
        "BOLLEAN OPERATORS"
      ],
      "metadata": {
        "id": "d7-_Foh5yRKr"
      }
    },
    {
      "cell_type": "code",
      "source": [
        "print (10>9)\n",
        "print (10==9)\n",
        "print (10<9)"
      ],
      "metadata": {
        "colab": {
          "base_uri": "https://localhost:8080/"
        },
        "id": "o5l381VdyUfy",
        "outputId": "69ea5ad3-9d59-4160-a97c-9b8e1f273db9"
      },
      "execution_count": 1,
      "outputs": [
        {
          "output_type": "stream",
          "name": "stdout",
          "text": [
            "True\n",
            "False\n",
            "False\n"
          ]
        }
      ]
    },
    {
      "cell_type": "markdown",
      "source": [
        "BOOL() FUNCTION"
      ],
      "metadata": {
        "id": "3SKZkzlczN9D"
      }
    },
    {
      "cell_type": "code",
      "source": [
        "print (bool(\"Hello\"))\n",
        "print(bool(15))\n",
        "print(bool(-3))\n"
      ],
      "metadata": {
        "colab": {
          "base_uri": "https://localhost:8080/"
        },
        "id": "6iR7k6FUy1er",
        "outputId": "3c234b98-f0aa-42e2-ce8d-9ca41b5f5030"
      },
      "execution_count": 11,
      "outputs": [
        {
          "output_type": "stream",
          "name": "stdout",
          "text": [
            "True\n",
            "True\n",
            "True\n"
          ]
        }
      ]
    },
    {
      "cell_type": "markdown",
      "source": [
        "FUNCTIONS CAN RETURN A BOOLEAN"
      ],
      "metadata": {
        "id": "m3KIGWg0zpLT"
      }
    },
    {
      "cell_type": "code",
      "source": [
        "def myFunction() :\n",
        "  return True\n",
        "\n",
        "print(myFunction())"
      ],
      "metadata": {
        "colab": {
          "base_uri": "https://localhost:8080/"
        },
        "id": "TbX8391LztBT",
        "outputId": "04aaadcd-6851-4b5d-b340-44006d402e31"
      },
      "execution_count": 5,
      "outputs": [
        {
          "output_type": "stream",
          "name": "stdout",
          "text": [
            "True\n"
          ]
        }
      ]
    },
    {
      "cell_type": "markdown",
      "source": [],
      "metadata": {
        "id": "uv_b5vNv0E8k"
      }
    },
    {
      "cell_type": "code",
      "source": [
        "def myFunction() :\n",
        "  return True #False will print no\n",
        "\n",
        "if myFunction():\n",
        "  print(\"YES!\")\n",
        "else:\n",
        "  print(\"NO!\")"
      ],
      "metadata": {
        "colab": {
          "base_uri": "https://localhost:8080/"
        },
        "id": "-a6U9x1J0Q8r",
        "outputId": "711d0ef6-3f54-4ec6-ec06-f3c6a0f3bc91"
      },
      "execution_count": 15,
      "outputs": [
        {
          "output_type": "stream",
          "name": "stdout",
          "text": [
            "YES!\n"
          ]
        }
      ]
    },
    {
      "cell_type": "code",
      "source": [
        "print (10>9)\n",
        "\n",
        "a=6\n",
        "b=7\n",
        "print(a==b)\n",
        "print(a!=a)\n"
      ],
      "metadata": {
        "colab": {
          "base_uri": "https://localhost:8080/"
        },
        "id": "_rZpxAMX1j2U",
        "outputId": "2f191eaf-d524-4700-bf7f-1f3734b12910"
      },
      "execution_count": 16,
      "outputs": [
        {
          "output_type": "stream",
          "name": "stdout",
          "text": [
            "True\n",
            "False\n",
            "False\n"
          ]
        }
      ]
    },
    {
      "cell_type": "markdown",
      "source": [
        "PYTHON OPERATORS"
      ],
      "metadata": {
        "id": "KDPcV0DP2C3L"
      }
    },
    {
      "cell_type": "code",
      "source": [
        "print(10+5)\n",
        "print(10-5)\n",
        "print(10*5)\n",
        "print(10/5)\n",
        "\n",
        "print(10/5)\n",
        "print(10//5)\n",
        "print(10%5)"
      ],
      "metadata": {
        "colab": {
          "base_uri": "https://localhost:8080/"
        },
        "id": "XaK5JxwF2Fac",
        "outputId": "f43880d8-ff07-46aa-f818-d61bb547c6a2"
      },
      "execution_count": 18,
      "outputs": [
        {
          "output_type": "stream",
          "name": "stdout",
          "text": [
            "15\n",
            "5\n",
            "50\n",
            "2.0\n",
            "2.0\n",
            "2\n",
            "0\n"
          ]
        }
      ]
    },
    {
      "cell_type": "markdown",
      "source": [
        "PYTHON BITWISE OPERATORS"
      ],
      "metadata": {
        "id": "Mx1xdWfp3gWz"
      }
    },
    {
      "cell_type": "code",
      "source": [
        "a=60\n",
        "b=13\n",
        "print (a&b)\n",
        "print (a|b)\n",
        "print (a^b)\n",
        "print (~a)"
      ],
      "metadata": {
        "colab": {
          "base_uri": "https://localhost:8080/"
        },
        "id": "-vHGEjHw3kT7",
        "outputId": "4dae2e88-968e-4f8b-8375-ad4aed03a806"
      },
      "execution_count": 25,
      "outputs": [
        {
          "output_type": "stream",
          "name": "stdout",
          "text": [
            "12\n",
            "61\n",
            "49\n",
            "-61\n"
          ]
        }
      ]
    },
    {
      "cell_type": "markdown",
      "source": [
        "PYTHON ASSIGNMENT"
      ],
      "metadata": {
        "id": "YLzOWRNz-mPF"
      }
    },
    {
      "cell_type": "code",
      "source": [
        "x=12\n",
        "x+=3\n",
        "print (x)\n",
        "\n",
        "x-=3\n",
        "print (x)\n",
        "\n",
        "x*=3\n",
        "print (x)\n",
        "\n",
        "x/=3\n",
        "print (x)\n",
        "\n",
        "x%=3\n",
        "print(x)\n"
      ],
      "metadata": {
        "colab": {
          "base_uri": "https://localhost:8080/"
        },
        "id": "khFrpqxr-oqc",
        "outputId": "9fa0c82a-f4a5-4515-8fc5-bbbc2b43ac65"
      },
      "execution_count": 32,
      "outputs": [
        {
          "output_type": "stream",
          "name": "stdout",
          "text": [
            "15\n",
            "12\n",
            "36\n",
            "12.0\n",
            "0.0\n"
          ]
        }
      ]
    },
    {
      "cell_type": "markdown",
      "source": [
        "LOGICAL OPERATORS"
      ],
      "metadata": {
        "id": "scyWHg__F6Lw"
      }
    },
    {
      "cell_type": "code",
      "source": [
        "not (10>9 and 9>10)"
      ],
      "metadata": {
        "colab": {
          "base_uri": "https://localhost:8080/"
        },
        "id": "8GAMsq-WF8Cv",
        "outputId": "a96824dc-c43f-4d1d-9971-a51ef954b576"
      },
      "execution_count": 37,
      "outputs": [
        {
          "output_type": "execute_result",
          "data": {
            "text/plain": [
              "True"
            ]
          },
          "metadata": {},
          "execution_count": 37
        }
      ]
    },
    {
      "cell_type": "markdown",
      "source": [
        "IDENTITY OPERATORS"
      ],
      "metadata": {
        "id": "ZBPy9YucGhko"
      }
    },
    {
      "cell_type": "code",
      "source": [
        "x=10\n",
        "y=5\n",
        "\n",
        "print (x is not y)\n",
        "print (y is x)"
      ],
      "metadata": {
        "colab": {
          "base_uri": "https://localhost:8080/"
        },
        "id": "sar_qhWUGj6F",
        "outputId": "505f4e44-84a4-4e4b-8e95-b461f6a48b77"
      },
      "execution_count": 39,
      "outputs": [
        {
          "output_type": "stream",
          "name": "stdout",
          "text": [
            "True\n",
            "False\n"
          ]
        }
      ]
    },
    {
      "cell_type": "markdown",
      "source": [
        "CONDITIONAL STATEMENT"
      ],
      "metadata": {
        "id": "LGdKcWgcIgju"
      }
    },
    {
      "cell_type": "markdown",
      "source": [
        "IF STATEMENT"
      ],
      "metadata": {
        "id": "5LdCxdxAIjSW"
      }
    },
    {
      "cell_type": "code",
      "source": [
        "a=12\n",
        "b=100\n",
        "if b>a:\n",
        " print (\"b is greater than a\")"
      ],
      "metadata": {
        "colab": {
          "base_uri": "https://localhost:8080/"
        },
        "id": "NyVLDv7oIkoA",
        "outputId": "844566fe-ea97-453a-9b45-60443cc8c201"
      },
      "execution_count": 42,
      "outputs": [
        {
          "output_type": "stream",
          "name": "stdout",
          "text": [
            "b is greater than a\n"
          ]
        }
      ]
    },
    {
      "cell_type": "markdown",
      "source": [
        "ELIF STATEMENT"
      ],
      "metadata": {
        "id": "yxzQygdHMAo-"
      }
    },
    {
      "cell_type": "code",
      "source": [
        "a=12\n",
        "b=12\n",
        "if b>a:\n",
        " print (\"b is greater than a\")\n",
        "elif a==b:\n",
        " print (\"a and b are equal\")"
      ],
      "metadata": {
        "colab": {
          "base_uri": "https://localhost:8080/"
        },
        "id": "MwTu0ITwMC2h",
        "outputId": "336d2c6e-c0af-46e1-e542-de94dc67efd5"
      },
      "execution_count": 43,
      "outputs": [
        {
          "output_type": "stream",
          "name": "stdout",
          "text": [
            "a and b are equal\n"
          ]
        }
      ]
    },
    {
      "cell_type": "markdown",
      "source": [
        "ELSE STATEMENT"
      ],
      "metadata": {
        "id": "VwPOKbPkMvtW"
      }
    },
    {
      "cell_type": "code",
      "source": [
        "a=200\n",
        "b=33\n",
        "if b>a:\n",
        " print (\"b is greater than a\")\n",
        "elif a==b:\n",
        " print (\"a and b are equal\")\n",
        "else:\n",
        " print (\"a is greater than b\")"
      ],
      "metadata": {
        "colab": {
          "base_uri": "https://localhost:8080/"
        },
        "id": "pG_VzncuNg8a",
        "outputId": "9830a0fb-2c8c-480a-85dc-babfafd46b86"
      },
      "execution_count": 44,
      "outputs": [
        {
          "output_type": "stream",
          "name": "stdout",
          "text": [
            "a is greater than b\n"
          ]
        }
      ]
    },
    {
      "cell_type": "markdown",
      "source": [
        "SHORT HAND IF STATEMENT"
      ],
      "metadata": {
        "id": "cVgR9R7HNllB"
      }
    },
    {
      "cell_type": "code",
      "source": [
        "a=2\n",
        "b=330\n",
        "print (\"A\") if a>b else print (\"B\")"
      ],
      "metadata": {
        "colab": {
          "base_uri": "https://localhost:8080/"
        },
        "id": "RFhZK0dpNymH",
        "outputId": "54e6fe9a-d2b7-4674-8af2-caf474b091ff"
      },
      "execution_count": 47,
      "outputs": [
        {
          "output_type": "stream",
          "name": "stdout",
          "text": [
            "B\n"
          ]
        }
      ]
    },
    {
      "cell_type": "markdown",
      "source": [
        "AND-BOTH CONDITIONS ARE TRUE"
      ],
      "metadata": {
        "id": "4_pOKyPLOLMA"
      }
    },
    {
      "cell_type": "code",
      "source": [
        "a=200\n",
        "b=33\n",
        "c=500\n",
        "if a>b and c>a:\n",
        " print (\"both conditions are true\")"
      ],
      "metadata": {
        "colab": {
          "base_uri": "https://localhost:8080/"
        },
        "id": "1Q--225ZOPpX",
        "outputId": "687122b0-a5a3-41b5-a880-e6c6f0a3019a"
      },
      "execution_count": 54,
      "outputs": [
        {
          "output_type": "stream",
          "name": "stdout",
          "text": [
            "both conditions are true\n"
          ]
        }
      ]
    },
    {
      "cell_type": "markdown",
      "source": [
        "OR-AT LEAST ONE OF THE CONDITIONS IS TRUE"
      ],
      "metadata": {
        "id": "NDg_KIgxO0ER"
      }
    },
    {
      "cell_type": "code",
      "source": [
        "a=200\n",
        "b=33\n",
        "c=500\n",
        "if a>b or a>c:\n",
        "  print(\"At least one of the conditions is true\")"
      ],
      "metadata": {
        "colab": {
          "base_uri": "https://localhost:8080/"
        },
        "id": "K_hUCS0sO6gn",
        "outputId": "dd66e2fb-ef34-4df2-b070-12cff4a8b225"
      },
      "execution_count": 50,
      "outputs": [
        {
          "output_type": "stream",
          "name": "stdout",
          "text": [
            "At least one of the conditions is true\n"
          ]
        }
      ]
    },
    {
      "cell_type": "markdown",
      "source": [
        "NESTED IF"
      ],
      "metadata": {
        "id": "P2fE8VtQPjAB"
      }
    },
    {
      "cell_type": "code",
      "source": [
        "a=41\n",
        "if a>10:\n",
        "  print(\"Above ten,\")\n",
        "  if a>20:\n",
        "    print(\"and above 20!\")\n",
        "  if a>30:\n",
        "    print(\"and above 30\")\n",
        "  if a>40:\n",
        "    print(\"and above 40\")\n",
        "  if a>50:\n",
        "    print(\"and also above 50\")\n",
        "  else:\n",
        "    print(\"but not above 50.\")"
      ],
      "metadata": {
        "colab": {
          "base_uri": "https://localhost:8080/"
        },
        "id": "P_GrRWFyPlQ3",
        "outputId": "7232479d-49f1-4449-d283-f9d33f389754"
      },
      "execution_count": 56,
      "outputs": [
        {
          "output_type": "stream",
          "name": "stdout",
          "text": [
            "Above ten,\n",
            "and above 20!\n",
            "and above 30\n",
            "and above 40\n",
            "but not above 50.\n"
          ]
        }
      ]
    },
    {
      "cell_type": "markdown",
      "source": [
        "NESTED IF ELSE"
      ],
      "metadata": {
        "id": "uRhffGyQUmoQ"
      }
    },
    {
      "cell_type": "code",
      "source": [
        "x=29\n",
        "\n",
        "if x>10:\n",
        "  print (\"Above ten,\")\n",
        "else:\n",
        "  print(\"Not Above ten\")\n",
        "if x>20:\n",
        "  print (\"and also above 20!\")\n",
        "else:\n",
        "  print(\"Not Above 20\")\n",
        "if x>30:\n",
        "  print (\"and also above 30!\")\n",
        "else:\n",
        "  print(\"Not Above 30\")\n",
        "if x>40:\n",
        "  print (\"and also above 40!\")\n",
        "else:\n",
        "  print(\"Not Above 40\")\n",
        "if x>50:\n",
        "  print (\"and also above 50!\")\n",
        "else:\n",
        "  print (\"but not above 50.\")"
      ],
      "metadata": {
        "colab": {
          "base_uri": "https://localhost:8080/"
        },
        "id": "LHPsgWKKUo-Y",
        "outputId": "bbc8e62b-4411-4e2d-f4a4-51b5dd7dc974"
      },
      "execution_count": 62,
      "outputs": [
        {
          "output_type": "stream",
          "name": "stdout",
          "text": [
            "Above ten,\n",
            "and also above 20!\n",
            "Not Above 30\n",
            "Not Above 40\n",
            "but not above 50.\n"
          ]
        }
      ]
    },
    {
      "cell_type": "markdown",
      "source": [
        "APPLICATION 1"
      ],
      "metadata": {
        "id": "_r2uSmH5XCY0"
      }
    },
    {
      "cell_type": "code",
      "source": [
        "#write a python program that determines if the input age is qualified to vote or not. the qualifying is 18 years old and above\n",
        "age=int(input(\"Enter your age \" ))\n",
        "if age>=18:\n",
        "  print(\"You are qualified to vote\")\n",
        "else:\n",
        "  print(\"You are not qualified to vote\")"
      ],
      "metadata": {
        "colab": {
          "base_uri": "https://localhost:8080/"
        },
        "id": "lmvGZTeTXnyw",
        "outputId": "f5108469-c512-489e-f396-c9b6ba54e56d"
      },
      "execution_count": 71,
      "outputs": [
        {
          "output_type": "stream",
          "name": "stdout",
          "text": [
            "Enter your age 20\n",
            "You are qualified to vote\n"
          ]
        }
      ]
    },
    {
      "cell_type": "markdown",
      "source": [
        "APPLICATION 2"
      ],
      "metadata": {
        "id": "2KggQAzwY9QQ"
      }
    },
    {
      "cell_type": "code",
      "source": [
        "#write a program that determines if the input number is POSITIVE, NEGATIVE, OR ZERO\n",
        "number=int(input(\"Enter a number \"))\n",
        "if number>=0:\n",
        " print(\"You entered a positive number\")\n",
        "elif number<0:\n",
        " print(\"You entered a negative number\")\n",
        "else:\n",
        " print(\"You entered zero\")"
      ],
      "metadata": {
        "colab": {
          "base_uri": "https://localhost:8080/"
        },
        "id": "Xa7d8hKTYOZR",
        "outputId": "2b0a4d34-e037-45c8-b5ec-fb77d599e3dc"
      },
      "execution_count": 72,
      "outputs": [
        {
          "output_type": "stream",
          "name": "stdout",
          "text": [
            "Enter a number 55\n",
            "You entered a positive number\n"
          ]
        }
      ]
    },
    {
      "cell_type": "markdown",
      "source": [
        "APPLICATION 3"
      ],
      "metadata": {
        "id": "5SNolOPxZASK"
      }
    },
    {
      "cell_type": "code",
      "source": [
        "#write a program if the grades are passed remedial failed\n",
        "\n",
        "grade=float(input(\"Enter grade \"))\n",
        "if grade>=75:\n",
        "  print(\"Passed\")\n",
        "elif grade>=74:\n",
        "  print(\"Remedial\")\n",
        "else:\n",
        "  print (\"Failed\")"
      ],
      "metadata": {
        "colab": {
          "base_uri": "https://localhost:8080/"
        },
        "id": "JDgwzHOiaao8",
        "outputId": "797913ed-d273-4440-b4dd-13305d2d7ce3"
      },
      "execution_count": 81,
      "outputs": [
        {
          "output_type": "stream",
          "name": "stdout",
          "text": [
            "Enter grade 72.95\n",
            "Failed\n"
          ]
        }
      ]
    }
  ]
}