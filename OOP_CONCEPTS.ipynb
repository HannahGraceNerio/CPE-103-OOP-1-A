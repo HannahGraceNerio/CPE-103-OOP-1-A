{
  "nbformat": 4,
  "nbformat_minor": 0,
  "metadata": {
    "colab": {
      "provenance": [],
      "authorship_tag": "ABX9TyNweZYXwQ1UMtToim8XSKLO",
      "include_colab_link": true
    },
    "kernelspec": {
      "name": "python3",
      "display_name": "Python 3"
    },
    "language_info": {
      "name": "python"
    }
  },
  "cells": [
    {
      "cell_type": "markdown",
      "metadata": {
        "id": "view-in-github",
        "colab_type": "text"
      },
      "source": [
        "<a href=\"https://colab.research.google.com/github/HannahGraceNerio/CPE-103-OOP-1-A/blob/main/OOP_CONCEPTS.ipynb\" target=\"_parent\"><img src=\"https://colab.research.google.com/assets/colab-badge.svg\" alt=\"Open In Colab\"/></a>"
      ]
    },
    {
      "cell_type": "markdown",
      "source": [
        "Class Constructor"
      ],
      "metadata": {
        "id": "hH2lAn407VoM"
      }
    },
    {
      "cell_type": "code",
      "source": [
        "class car:\n",
        "  pass"
      ],
      "metadata": {
        "id": "1v2VSHlFRf1K"
      },
      "execution_count": 101,
      "outputs": []
    },
    {
      "cell_type": "markdown",
      "source": [
        "Class Constructor"
      ],
      "metadata": {
        "id": "b0HtnanXRj96"
      }
    },
    {
      "cell_type": "code",
      "source": [
        "class Car:\n",
        "  def __init__(self,name,color):\n",
        "   self.name = name\n",
        "   self. color = color"
      ],
      "metadata": {
        "id": "MTvixe7x7aPZ"
      },
      "execution_count": 102,
      "outputs": []
    },
    {
      "cell_type": "markdown",
      "source": [
        "Methods"
      ],
      "metadata": {
        "id": "rsPGvbAu9uur"
      }
    },
    {
      "cell_type": "code",
      "source": [
        "class Car:\n",
        "  car_type=\"Sedan\"\n",
        "  def __init__ (self,name,mileage):\n",
        "    self.name=name\n",
        "    self.mileage=mileage\n",
        "\n",
        "    def description(self):\n",
        "     return \"The {self.name}car gives the mileage of {self.mileage}km/1\"\n",
        "\n",
        "    def max_speed(self,speed):\n",
        "      return f\"The {self.name} runs at the maximum speed of {speed}km/hr\""
      ],
      "metadata": {
        "id": "-nDTVq4y9ypS"
      },
      "execution_count": 103,
      "outputs": []
    },
    {
      "cell_type": "markdown",
      "source": [
        "MULTIPLE OBJECTS"
      ],
      "metadata": {
        "id": "Bi_GTSRP_5Yi"
      }
    },
    {
      "cell_type": "code",
      "source": [
        "class Car: #parent class\n",
        " def __init__(self,name,mileage):\n",
        "  self.name=name\n",
        "  self.mileage=mileage\n",
        "\n",
        " def description(self):\n",
        "  return f\"The {self.name}car gives the mileage of {self.mileage}km/1\"\n",
        "\n",
        "class BMW(Car): #child class\n",
        " pass\n",
        "\n",
        "class Audi(Car): #child class\n",
        " def Audi_desc(self):\n",
        "  return f\"This is the description method of class Audi\"\n",
        "\n",
        "bmw=BMW(\"BMW 7-series\", 39.53)\n",
        "print (bmw.description())\n",
        "\n",
        "audi=Audi(\"Audi A8 L\", 14)\n",
        "print(audi.description())"
      ],
      "metadata": {
        "colab": {
          "base_uri": "https://localhost:8080/"
        },
        "id": "ifiChzBb_8Qq",
        "outputId": "cdf47beb-6ecf-4418-b771-9083e3f2c399"
      },
      "execution_count": 118,
      "outputs": [
        {
          "output_type": "stream",
          "name": "stdout",
          "text": [
            "The BMW 7-seriescar gives the mileage of 39.53km/1\n",
            "The Audi A8 Lcar gives the mileage of 14km/1\n"
          ]
        }
      ]
    },
    {
      "cell_type": "markdown",
      "source": [
        "Apply the OOP concept like class constructor,method,inheritance to describe the slides of shape"
      ],
      "metadata": {
        "id": "dlHAXUfVFBuk"
      }
    },
    {
      "cell_type": "code",
      "source": [
        "class Shapes: #parent class\n",
        "  def __init__(self,name,sides):\n",
        "    self.name = name\n",
        "    self.sides = sides\n",
        "\n",
        "  def description(self):\n",
        "      return f\"The {self.name} has {self.sides} sides\"\n",
        "\n",
        "class Triangle(Shapes): #child class\n",
        "  pass\n",
        "\n",
        "triangle= Triangle(\"Triangle\",3)\n",
        "print(triangle.description())\n",
        "\n",
        "class Square(Shapes) : #child class\n",
        " def square_desc(self):\n",
        "  return f\"This is the description method of class square\"\n",
        "\n",
        "square= Square(\"Square\",4)\n",
        "print(square.description())\n",
        "\n",
        "class Pentagon(Shapes): #child class\n",
        " def pentagon_desc(self):\n",
        "  return f\"This is the desceiption method of class pentagon\"\n",
        "\n",
        "pentagon= Pentagon(\"Pentagon\",5)\n",
        "print(pentagon.description())\n",
        "\n"
      ],
      "metadata": {
        "colab": {
          "base_uri": "https://localhost:8080/"
        },
        "id": "HjzZ8ru4FRbr",
        "outputId": "5bd38271-8723-4c5e-ad95-6b5f6bb71df9"
      },
      "execution_count": 81,
      "outputs": [
        {
          "output_type": "stream",
          "name": "stdout",
          "text": [
            "The Triangle has 3 sides\n",
            "The Square has 4 sides\n",
            "The Pentagon has 5 sides\n"
          ]
        }
      ]
    }
  ]
}