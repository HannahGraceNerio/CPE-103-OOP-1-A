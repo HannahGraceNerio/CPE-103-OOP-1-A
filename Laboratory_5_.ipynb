{
  "cells": [
    {
      "cell_type": "markdown",
      "metadata": {
        "id": "view-in-github",
        "colab_type": "text"
      },
      "source": [
        "<a href=\"https://colab.research.google.com/github/HannahGraceNerio/CPE-103-OOP-1-A/blob/main/Laboratory_5_.ipynb\" target=\"_parent\"><img src=\"https://colab.research.google.com/assets/colab-badge.svg\" alt=\"Open In Colab\"/></a>"
      ]
    },
    {
      "cell_type": "code",
      "execution_count": null,
      "metadata": {
        "colab": {
          "base_uri": "https://localhost:8080/"
        },
        "id": "dW3Npg82hUSR",
        "outputId": "6ebfbc67-248c-4296-e9a6-a4df2e58dbaf"
      },
      "outputs": [
        {
          "name": "stdout",
          "output_type": "stream",
          "text": [
            "Propositional logic evaluator for discrete math\n",
            "How many variables? 3\n",
            "Enter the propositional logic expression: 5\n",
            "A B C f\n",
            "1 1 1 5\n"
          ]
        }
      ],
      "source": [
        "print(\"Propositional logic evaluator for discrete math\")\n",
        "variables = int(input (\"How many variables? \"))\n",
        "total_combinations = 2**variables\n",
        "\n",
        "combinations_list = []\n",
        "\n",
        "for i in range (total_combinations):\n",
        "  bin_equivalent = bin (i) [2:]\n",
        "while len (bin_equivalent) <variables:\n",
        "  bin_equivalent=\"0\"+bin_equivalent\n",
        "combinations_list.append(tuple(int(val) for val in bin_equivalent))\n",
        "\n",
        "expression = input(\"Enter the propositional logic expression: \")\n",
        "\n",
        "if variables == 2:\n",
        "    print(\"A B f\")\n",
        "    for A,B in combinations_list:\n",
        "        evaluated_expression = eval(expression)\n",
        "        print(A, B, evaluated_expression)\n",
        "elif variables == 3:\n",
        "    print(\"A B C f\")\n",
        "    for A,B,C in combinations_list:\n",
        "         evaluated_expression = eval(expression)\n",
        "         print(A, B,C, evaluated_expression)"
      ]
    },
    {
      "cell_type": "markdown",
      "metadata": {
        "id": "8sg_iSvyxeQ1"
      },
      "source": [
        "FILE HANDLING"
      ]
    },
    {
      "cell_type": "code",
      "execution_count": 3,
      "metadata": {
        "id": "mmCI_aUfxjui"
      },
      "outputs": [],
      "source": [
        "name =\"Royce Chua\"\n",
        "file = open (\"newfile.txt\", 'w')\n",
        "\n",
        "file.write(f\"Hello, {name}!\\n\")\n",
        "file.write(\"Isn't this amazing!\\n\")\n",
        "file.write(\"that we can create and write on text files\\n\")\n",
        "file.write(\"using Python.\")\n",
        "\n",
        "file.close()"
      ]
    },
    {
      "cell_type": "code",
      "execution_count": 4,
      "metadata": {
        "id": "rRYvYKAU73cA",
        "colab": {
          "base_uri": "https://localhost:8080/"
        },
        "outputId": "11c6fb7a-3a6e-460b-e9d3-8efc2c95b90a"
      },
      "outputs": [
        {
          "output_type": "stream",
          "name": "stdout",
          "text": [
            "Hello, Royce Chua!\n",
            "Isn't this amazing!\n",
            "that we can create and write on text files\n",
            "using Python.\n"
          ]
        }
      ],
      "source": [
        "file = open(\"newfile.txt\", 'r')\n",
        "\n",
        "data = file.read()\n",
        "\n",
        "print(data)\n",
        "\n",
        "file.close()"
      ]
    },
    {
      "cell_type": "code",
      "execution_count": 5,
      "metadata": {
        "id": "voC7AyxT2dq4"
      },
      "outputs": [],
      "source": [
        "file = open (\"newfile.txt\", 'a')\n",
        "\n",
        "file.write(\"and also by the programmer of course.\")\n",
        "\n",
        "file.close ()"
      ]
    },
    {
      "cell_type": "markdown",
      "source": [
        "USER-DEFINED FUNCTIONS"
      ],
      "metadata": {
        "id": "qYc-H1d2_pa9"
      }
    },
    {
      "cell_type": "code",
      "source": [
        "def generate_truthtable(number_of_variables):\n",
        "    if number_of_variables == 0:\n",
        "        return \"You need to enter an integer\"\n",
        "    else:\n",
        "         total_combinations = 2**number_of_variables\n",
        "         combinations_list = []\n",
        "         for i in range(total_combinations):\n",
        "            bin_equivalent = bin(i)[2:]\n",
        "            while len(bin_equivalent) < number_of_variables:\n",
        "                bin_equivalent = \"0\" + bin_equivalent\n",
        "            combinations_list.append(tuple(int(val) for val in bin_equivalent))\n",
        "         return combinations_list"
      ],
      "metadata": {
        "id": "Vt7nwzr6_smY"
      },
      "execution_count": 6,
      "outputs": []
    },
    {
      "cell_type": "markdown",
      "source": [
        "MODULES"
      ],
      "metadata": {
        "id": "vSVbf_1KAzyh"
      }
    },
    {
      "cell_type": "code",
      "source": [
        "def evaluate_propositional_logic(expression, combinations_list):\n",
        "    if len(combinations_list) == 0:\n",
        "       pass"
      ],
      "metadata": {
        "id": "IeiFzm06A01M"
      },
      "execution_count": 9,
      "outputs": []
    },
    {
      "cell_type": "code",
      "source": [
        "def quadratic_formula(a,b,c):\n",
        "     if b**2-(4*a*c):\n",
        "        x1 = (complex(-b,math.floor(math.sqrt(b**2-(4*a*c)))))/(2*a)\n",
        "        x2= (complex(-b,math.floor(math.sqrt(b**2-(4*a*c)))))/(2*a)\n",
        "        return x1, x2\n",
        "     else:\n",
        "        x1 = (-b+math.sqrt(b**2-(4*a*c)))/(2*a)\n",
        "        x2= (-b-math.sqrt(b**2-(4*a*c)))/(2*a)\n",
        "        return x1, x2"
      ],
      "metadata": {
        "id": "p_UOLPVOBSdx"
      },
      "execution_count": 10,
      "outputs": []
    },
    {
      "cell_type": "code",
      "source": [
        "def angle_demo():\n",
        "  angle = math.sin(math.pi/2)\n",
        "  print(angle)\n",
        "  angle = math.sin(math.radians(90))\n",
        "  print(angle)"
      ],
      "metadata": {
        "id": "ptEopRr5CGRE"
      },
      "execution_count": 11,
      "outputs": []
    },
    {
      "cell_type": "code",
      "source": [
        "def pause():\n",
        "    for i in range(10, 0, -1):\n",
        "        print (f\"The p[rogram will end in {i}..\")\n",
        "        time.sleep(1)"
      ],
      "metadata": {
        "id": "ZltOcdqOCahD"
      },
      "execution_count": 12,
      "outputs": []
    },
    {
      "cell_type": "code",
      "source": [
        "import time\n",
        "def current_time():\n",
        "    current_time = time.strftime(\"%I:%M:%p\")\n",
        "    return current_time\n",
        "\n",
        "print(current_time)\n",
        "\n",
        "def current_date():\n",
        "    current_date = time.strftime(\"%b/%d/%Y\")\n",
        "    return current_date\n",
        "\n",
        "print(current_date())"
      ],
      "metadata": {
        "colab": {
          "base_uri": "https://localhost:8080/"
        },
        "id": "pBuk4XApCvC8",
        "outputId": "94190179-21fd-42bc-b9f6-5f51ef7cc861"
      },
      "execution_count": 13,
      "outputs": [
        {
          "output_type": "stream",
          "name": "stdout",
          "text": [
            "<function current_time at 0x799013123880>\n",
            "Mar/29/2025\n"
          ]
        }
      ]
    },
    {
      "cell_type": "code",
      "source": [
        "print(\"The current time\", current_time())\n",
        "print(\"The current date\", current_date())"
      ],
      "metadata": {
        "colab": {
          "base_uri": "https://localhost:8080/"
        },
        "id": "H_X7qYszDm4Y",
        "outputId": "50a4666c-1115-4eb3-a0b0-be2d222750b7"
      },
      "execution_count": 15,
      "outputs": [
        {
          "output_type": "stream",
          "name": "stdout",
          "text": [
            "The current time 04:00:AM\n",
            "The current date Mar/29/2025\n"
          ]
        }
      ]
    },
    {
      "cell_type": "markdown",
      "source": [
        "SUPPLEMENTARY ACTIVITY"
      ],
      "metadata": {
        "id": "emTBLYIpD9D8"
      }
    },
    {
      "cell_type": "markdown",
      "source": [
        "TASK 1"
      ],
      "metadata": {
        "id": "Krhnwm6aUoKW"
      }
    },
    {
      "cell_type": "code",
      "source": [
        "def word_filter(sentence, bad_words):\n",
        "    words = sentence.split()\n",
        "    for i in range(len(words)):\n",
        "        clean_word = words[i].strip(\".,!?\")  # Remove punctuation\n",
        "        if clean_word.lower() in bad_words:\n",
        "            words[i] = \"*\" * len(clean_word)\n",
        "    return \" \".join(words)\n",
        "\n",
        "sentence = input(\"Enter a sentence:\")\n",
        "bad_words = input(\"Enter the bad words seperated by commas:\").split(',')\n",
        "\n",
        "print(\"Filtered sentence:\", censor_sentence(sentence, bad_words))"
      ],
      "metadata": {
        "colab": {
          "base_uri": "https://localhost:8080/"
        },
        "id": "eJeFoF-gD_WK",
        "outputId": "e30b8b05-feb7-4ec6-b4b6-0b1921b1ba76"
      },
      "execution_count": 22,
      "outputs": [
        {
          "output_type": "stream",
          "name": "stdout",
          "text": [
            "Enter a sentence:You are stupid\n",
            "Enter the bad words seperated by commas:stupid\n",
            "Filtered sentence: You are ******\n"
          ]
        }
      ]
    },
    {
      "cell_type": "markdown",
      "source": [
        "TASK 2"
      ],
      "metadata": {
        "id": "obypGlC3KtGw"
      }
    },
    {
      "cell_type": "code",
      "source": [
        "import math\n",
        "\n",
        "def projectilemotion_solver(velocity, angle):\n",
        "    g = 9.8\n",
        "    angle_rad = math.radians(angle)\n",
        "\n",
        "    range_distance = (velocity**2 * math.sin(2 * angle_rad)) / g\n",
        "\n",
        "    max_height = (velocity**2 * (math.sin(angle_rad)**2)) / (2 * g)\n",
        "\n",
        "    return round(range_distance, 2), round(max_height, 2)\n",
        "\n",
        "if __name__ == \"__main__\":\n",
        "    range_distance, max_height = projectilemotion_solver(11.0, 20.0)\n",
        "    print(f\"Horizontal Range: {range_distance:.2f} meters\")\n",
        "    print(f\"Maximum Height: {max_height:.2f} meters\")"
      ],
      "metadata": {
        "colab": {
          "base_uri": "https://localhost:8080/"
        },
        "id": "uL8FPZTbKu9e",
        "outputId": "4f90bdd1-1c2e-4185-ae7d-11db124d2ec8"
      },
      "execution_count": 23,
      "outputs": [
        {
          "output_type": "stream",
          "name": "stdout",
          "text": [
            "Horizontal Range: 7.94 meters\n",
            "Maximum Height: 0.72 meters\n"
          ]
        }
      ]
    },
    {
      "cell_type": "markdown",
      "source": [
        "TASK 3"
      ],
      "metadata": {
        "id": "GSBsQOMJOjJH"
      }
    },
    {
      "cell_type": "code",
      "source": [
        "import math\n",
        "\n",
        "def quadratic_solver(a, b, c):\n",
        "    discriminant = b**2 - 4*a*c\n",
        "    if discriminant > 0:\n",
        "        root1 = complex(-b + math.sqrt(abs(discriminant))) / (2*a)\n",
        "        root2 = complex(-b - math.sqrt(abs(discriminant))) / (2*a)\n",
        "        return root1, root2\n",
        "    elif discriminant == 0:\n",
        "        root  = -b / (2*a)\n",
        "        return root,\n",
        "    else:\n",
        "        return \"No real roots\"\n",
        "\n",
        "def log_to_file(a, b, c, result):\n",
        "    with open(\"quadratic_results.txt\", \"w\") as file:\n",
        "      file.write(f\"Quadratic Equation: {a}x² + {b}x + {c} = 0\\n\")\n",
        "      file.write(f\"Solution: {result}\\n\")\n",
        "      file.write(\"-\" * 30 + \"\\n\")\n",
        "\n",
        "def main():\n",
        "    a = float(input(\"Enter the coefficient a: \"))\n",
        "    b = float(input(\"Enter the coefficient b: \"))\n",
        "    c = float(input(\"Enter the coefficient c: \"))\n",
        "\n",
        "    if a == 0:\n",
        "        print(\"This is not a quadratic equation.\")\n",
        "        return\n",
        "\n",
        "    result = quadratic_solver(a, b, c)\n",
        "    print(\"Solution:\", result)\n",
        "    log_to_file(a,b,c, result)\n",
        "\n",
        "if __name__ == \"__main__\":\n",
        "    main ()"
      ],
      "metadata": {
        "colab": {
          "base_uri": "https://localhost:8080/"
        },
        "id": "pBV_5HIMOmO6",
        "outputId": "4a190eab-1f35-4cba-9c0f-0a2a8ee63f98"
      },
      "execution_count": 30,
      "outputs": [
        {
          "output_type": "stream",
          "name": "stdout",
          "text": [
            "Enter the coefficient a: 21\n",
            "Enter the coefficient b: 2\n",
            "Enter the coefficient c: 12\n",
            "Solution: No real roots\n"
          ]
        }
      ]
    }
  ],
  "metadata": {
    "colab": {
      "provenance": [],
      "authorship_tag": "ABX9TyNFYt2UOI5Q6+A9+2u5WmU6",
      "include_colab_link": true
    },
    "kernelspec": {
      "display_name": "Python 3",
      "name": "python3"
    },
    "language_info": {
      "name": "python"
    }
  },
  "nbformat": 4,
  "nbformat_minor": 0
}