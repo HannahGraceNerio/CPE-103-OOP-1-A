{
  "nbformat": 4,
  "nbformat_minor": 0,
  "metadata": {
    "colab": {
      "provenance": [],
      "authorship_tag": "ABX9TyNJU1L4llojACXNX05N/wmv",
      "include_colab_link": true
    },
    "kernelspec": {
      "name": "python3",
      "display_name": "Python 3"
    },
    "language_info": {
      "name": "python"
    }
  },
  "cells": [
    {
      "cell_type": "markdown",
      "metadata": {
        "id": "view-in-github",
        "colab_type": "text"
      },
      "source": [
        "<a href=\"https://colab.research.google.com/github/HannahGraceNerio/CPE-103-OOP-1-A/blob/main/Laboratory_5_.ipynb\" target=\"_parent\"><img src=\"https://colab.research.google.com/assets/colab-badge.svg\" alt=\"Open In Colab\"/></a>"
      ]
    },
    {
      "cell_type": "code",
      "execution_count": 6,
      "metadata": {
        "colab": {
          "base_uri": "https://localhost:8080/"
        },
        "id": "dW3Npg82hUSR",
        "outputId": "6ebfbc67-248c-4296-e9a6-a4df2e58dbaf"
      },
      "outputs": [
        {
          "output_type": "stream",
          "name": "stdout",
          "text": [
            "Propositional logic evaluator for discrete math\n",
            "How many variables? 3\n",
            "Enter the propositional logic expression: 5\n",
            "A B C f\n",
            "1 1 1 5\n"
          ]
        }
      ],
      "source": [
        "print(\"Propositional logic evaluator for discrete math\")\n",
        "variables = int(input (\"How many variables? \"))\n",
        "total_combinations = 2**variables\n",
        "\n",
        "combinations_list = []\n",
        "\n",
        "for i in range (total_combinations):\n",
        "  bin_equivalent = bin (i) [2:]\n",
        "while len (bin_equivalent) <variables:\n",
        "  bin_equivalent=\"0\"+bin_equivalent\n",
        "combinations_list.append(tuple(int(val) for val in bin_equivalent))\n",
        "\n",
        "expression = input(\"Enter the propositional logic expression: \")\n",
        "\n",
        "if variables == 2:\n",
        "    print(\"A B f\")\n",
        "    for A,B in combinations_list:\n",
        "        evaluated_expression = eval(expression)\n",
        "        print(A, B, evaluated_expression)\n",
        "elif variables == 3:\n",
        "    print(\"A B C f\")\n",
        "    for A,B,C in combinations_list:\n",
        "         evaluated_expression = eval(expression)\n",
        "         print(A, B,C, evaluated_expression)"
      ]
    },
    {
      "cell_type": "markdown",
      "source": [
        "FILE HANDLING"
      ],
      "metadata": {
        "id": "8sg_iSvyxeQ1"
      }
    },
    {
      "cell_type": "code",
      "source": [
        "name =\"Royce Chua\"\n",
        "file = open (\"newfile1.txt\", 'w')\n",
        "file.write(f\"Hello, {name}!\\n\")\n",
        "file.write(\"Isn't this amazing!\\n\")\n",
        "file.write(\"that we can create and write on text files\\n\")\n",
        "file.write(\"using Python.\")\n",
        "file.close"
      ],
      "metadata": {
        "colab": {
          "base_uri": "https://localhost:8080/"
        },
        "id": "mmCI_aUfxjui",
        "outputId": "f27ab66e-c6db-4ea5-b1d1-1310a961e976"
      },
      "execution_count": 8,
      "outputs": [
        {
          "output_type": "execute_result",
          "data": {
            "text/plain": [
              "<function TextIOWrapper.close()>"
            ]
          },
          "metadata": {},
          "execution_count": 8
        }
      ]
    },
    {
      "cell_type": "code",
      "source": [
        "name = \"Royce Chua\"\n",
        "\n",
        "file = open(\"newfile2.txt\", 'w')\n",
        "file.write (\"Isn't this amazing!\\n\")\n",
        "file.write(\"This message was created using Python!\\n\")\n",
        "file.write (\"using python.\")\n",
        "\n",
        "file.close()"
      ],
      "metadata": {
        "id": "F6bwBQyW68Ln"
      },
      "execution_count": 11,
      "outputs": []
    },
    {
      "cell_type": "code",
      "source": [
        "file = open(\"new.txt\", 'r')\n",
        "file.write(\"This message was created using Python!\\n\")\n",
        "file.close()"
      ],
      "metadata": {
        "id": "rRYvYKAU73cA"
      },
      "execution_count": 12,
      "outputs": []
    },
    {
      "cell_type": "code",
      "source": [
        "file = open (\"newfile2.txt\", 'r')\n",
        "data = file.read (12)\n",
        "print (data)\n",
        "file.close ()"
      ],
      "metadata": {
        "colab": {
          "base_uri": "https://localhost:8080/"
        },
        "id": "voC7AyxT2dq4",
        "outputId": "600c9749-6e4a-4b15-ec34-80777655e626"
      },
      "execution_count": 27,
      "outputs": [
        {
          "output_type": "stream",
          "name": "stdout",
          "text": [
            "This message\n"
          ]
        }
      ]
    },
    {
      "cell_type": "code",
      "source": [
        "file = open(\"newfile2.txt\", 'a')\n",
        "file.write(\"and also by the programmer of course.\")\n",
        "file.close()"
      ],
      "metadata": {
        "id": "O2O_RdAR8G_N"
      },
      "execution_count": 26,
      "outputs": []
    },
    {
      "cell_type": "markdown",
      "source": [
        "USER-DEFINED FUNCTIONS"
      ],
      "metadata": {
        "id": "_NHFznBm96Jn"
      }
    },
    {
      "cell_type": "code",
      "source": [
        "\n",
        "def generate_truthtable(number_of_variables):\n",
        "    total_combinations = 2**number_of_variables\n",
        "    combinations_list = []\n",
        "    for i in range(total_combinations):\n",
        "        bin_equivalent = bin(i)[2:]\n",
        "        while len (bin_equivalent) <number_of_variables:\n",
        "            bin_equivalent=\"0\"+bin_equivalent\n",
        "        combinations_list.append(tuple(int(val) for val in bin_equivalent))\n",
        "    return combinations_list\n",
        "\n",
        "print (generate_truthtable(3))"
      ],
      "metadata": {
        "colab": {
          "base_uri": "https://localhost:8080/"
        },
        "id": "BZZ3TESl-hVG",
        "outputId": "491ec3bf-98c5-4e95-c9c2-217bc23accfe"
      },
      "execution_count": 25,
      "outputs": [
        {
          "output_type": "stream",
          "name": "stdout",
          "text": [
            "[(0, 0, 0), (0, 0, 1), (0, 1, 0), (0, 1, 1), (1, 0, 0), (1, 0, 1), (1, 1, 0), (1, 1, 1)]\n"
          ]
        }
      ]
    },
    {
      "cell_type": "code",
      "source": [
        "def generate_truthtable(number_of_variables=3):\n",
        "    if number_of_variables == 0:\n",
        "        return \"You need to enter an integer\"\n",
        "    else:\n",
        "        total_combinations = 2**number_of_variables\n",
        "        combinations_list = []\n",
        "        for i in range(total_combinations):\n",
        "            bin_equivalent = bin(i)[2:]\n",
        "            while len (bin_equivalent) <number_of_variables:\n",
        "                bin_equivalent=\"0\"+bin_equivalent\n",
        "            combinations_list.append(tuple(int(val) for val in bin_equivalent))\n",
        "\n",
        "        return combinations_list\n",
        "print (generate_truthtable(3))"
      ],
      "metadata": {
        "colab": {
          "base_uri": "https://localhost:8080/"
        },
        "id": "FXKgqOXhDSwm",
        "outputId": "51a82f2c-ef94-4b58-ebab-2a9358e2e770"
      },
      "execution_count": 32,
      "outputs": [
        {
          "output_type": "stream",
          "name": "stdout",
          "text": [
            "[(0, 0, 0), (0, 0, 1), (0, 1, 0), (0, 1, 1), (1, 0, 0), (1, 0, 1), (1, 1, 0), (1, 1, 1)]\n"
          ]
        }
      ]
    },
    {
      "cell_type": "code",
      "source": [
        "def evaluate_propositional_logic(c_list):\n",
        "    expression = input(\"Enter the propositional logic expression (A, B, C): \")\n",
        "\n",
        "    if len(c_list[0]) == 2:\n",
        "        print(\"A B f\")\n",
        "        for A,B in c_list:\n",
        "            evaluated_expression = eval(expression)\n",
        "            print(A, B, evaluated_expression)\n",
        "\n",
        "    elif len(c_list[0]) == 3:\n",
        "        print(\"A B C f\")\n",
        "        for A,B,C in c_list:\n",
        "            evaluated_expression = eval(expression)\n",
        "            print(A, B, C, evaluated_expression)\n",
        "\n",
        "\n",
        "evaluate_propositional_logic (generate_truthtable(3))"
      ],
      "metadata": {
        "colab": {
          "base_uri": "https://localhost:8080/"
        },
        "id": "oo1HneCwEeBN",
        "outputId": "ca603871-41de-4665-b1a7-122608c23f1c"
      },
      "execution_count": 34,
      "outputs": [
        {
          "output_type": "stream",
          "name": "stdout",
          "text": [
            "Enter the propositional logic expression (A, B, C): B\n",
            "A B C f\n",
            "0 0 0 0\n",
            "0 0 1 0\n",
            "0 1 0 1\n",
            "0 1 1 1\n",
            "1 0 0 0\n",
            "1 0 1 0\n",
            "1 1 0 1\n",
            "1 1 1 1\n"
          ]
        }
      ]
    },
    {
      "cell_type": "markdown",
      "source": [
        "MODULES BUILT-IN MODULES MATH MODULE"
      ],
      "metadata": {
        "id": "teAN8U_qJQni"
      }
    },
    {
      "cell_type": "code",
      "source": [
        "import math\n",
        "\n",
        "def quadratic_formula(a,b,c):\n",
        "    if b**2 - (4*a*c) < 0:\n",
        "        x1 = (complex(-b, math.floor(math.sqrt(-(b**2 - 4*a*c)))))/(2*a)\n",
        "        x2 = (complex(-b, math.ceil(math.sqrt(-(b**2 - 4*a*c)))))/(2*a)"
      ],
      "metadata": {
        "id": "Na5KsPnIJUZy"
      },
      "execution_count": 36,
      "outputs": []
    },
    {
      "cell_type": "code",
      "source": [
        "import math\n",
        "\n",
        "def angle_demo():\n",
        "    angle = math.sin(math.pi/2)\n",
        "    print(angle)\n",
        "\n",
        "    angle = math.sin(math.radians(90))\n",
        "    print (angle)\n",
        "\n",
        "angle_demo()\n",
        "\n"
      ],
      "metadata": {
        "colab": {
          "base_uri": "https://localhost:8080/"
        },
        "id": "i7-v7-ilJ0H0",
        "outputId": "662e7b56-17b0-4e26-e1f7-ded2e8d6bd62"
      },
      "execution_count": 37,
      "outputs": [
        {
          "output_type": "stream",
          "name": "stdout",
          "text": [
            "1.0\n",
            "1.0\n"
          ]
        }
      ]
    },
    {
      "cell_type": "markdown",
      "source": [
        "TIME AND DETERMINE MODULE"
      ],
      "metadata": {
        "id": "lxdb2nBAKfYj"
      }
    },
    {
      "cell_type": "code",
      "source": [
        "import time\n",
        "\n",
        "def pause ():\n",
        "    for i in range(10, 0, -1):\n",
        "         print (f\"The program will end in {i}. . .\")\n",
        "         time.sleep(1)\n",
        "pause ()"
      ],
      "metadata": {
        "colab": {
          "base_uri": "https://localhost:8080/"
        },
        "id": "Kj6V6ULzKiT6",
        "outputId": "bf94e922-09bb-48c1-e9ad-60160355e097"
      },
      "execution_count": 41,
      "outputs": [
        {
          "output_type": "stream",
          "name": "stdout",
          "text": [
            "The program will end in 10. . .\n",
            "The program will end in 9. . .\n",
            "The program will end in 8. . .\n",
            "The program will end in 7. . .\n",
            "The program will end in 6. . .\n",
            "The program will end in 5. . .\n",
            "The program will end in 4. . .\n",
            "The program will end in 3. . .\n",
            "The program will end in 2. . .\n",
            "The program will end in 1. . .\n"
          ]
        }
      ]
    },
    {
      "cell_type": "code",
      "source": [
        "def current_time ():\n",
        "    t = time.strftime(\"%I:%M:%p\")\n",
        "    return t\n",
        "\n",
        "print(current_time ())"
      ],
      "metadata": {
        "colab": {
          "base_uri": "https://localhost:8080/"
        },
        "id": "e9fU-vgxLd-D",
        "outputId": "350ec84c-3c37-465c-8335-e03cdbbc473b"
      },
      "execution_count": 43,
      "outputs": [
        {
          "output_type": "stream",
          "name": "stdout",
          "text": [
            "10:38:AM\n"
          ]
        }
      ]
    },
    {
      "cell_type": "code",
      "source": [
        "def current_date():\n",
        "    d = time.strftime(\"%m/%d/%Y\")\n",
        "    return d\n",
        "\n",
        "print(current_date())"
      ],
      "metadata": {
        "colab": {
          "base_uri": "https://localhost:8080/"
        },
        "id": "hF6HyxT3L_fa",
        "outputId": "7df3f337-2ec3-4fc2-b2df-32ba19b6be15"
      },
      "execution_count": 45,
      "outputs": [
        {
          "output_type": "stream",
          "name": "stdout",
          "text": [
            "02/15/2025\n"
          ]
        }
      ]
    },
    {
      "cell_type": "markdown",
      "source": [
        "USER-DEFINED MODULES"
      ],
      "metadata": {
        "id": "BKA2-DhfMZ45"
      }
    },
    {
      "cell_type": "code",
      "source": [
        "import dateandtime\n",
        "print (\"The current time is\", dateandtime.current_time())"
      ],
      "metadata": {
        "colab": {
          "base_uri": "https://localhost:8080/",
          "height": 346
        },
        "id": "lLX8QHTJMcQx",
        "outputId": "cae5ad5e-6ddd-423f-ce01-766bb8ad5760"
      },
      "execution_count": 47,
      "outputs": [
        {
          "output_type": "error",
          "ename": "ModuleNotFoundError",
          "evalue": "No module named 'dateandtime'",
          "traceback": [
            "\u001b[0;31m---------------------------------------------------------------------------\u001b[0m",
            "\u001b[0;31mModuleNotFoundError\u001b[0m                       Traceback (most recent call last)",
            "\u001b[0;32m<ipython-input-47-2bdc5e253667>\u001b[0m in \u001b[0;36m<cell line: 0>\u001b[0;34m()\u001b[0m\n\u001b[0;32m----> 1\u001b[0;31m \u001b[0;32mimport\u001b[0m \u001b[0mdateandtime\u001b[0m\u001b[0;34m\u001b[0m\u001b[0;34m\u001b[0m\u001b[0m\n\u001b[0m\u001b[1;32m      2\u001b[0m \u001b[0mprint\u001b[0m \u001b[0;34m(\u001b[0m\u001b[0;34m\"The current time is\"\u001b[0m\u001b[0;34m,\u001b[0m \u001b[0mdateandtime\u001b[0m\u001b[0;34m.\u001b[0m\u001b[0mcurrent_time\u001b[0m\u001b[0;34m(\u001b[0m\u001b[0;34m)\u001b[0m\u001b[0;34m)\u001b[0m\u001b[0;34m\u001b[0m\u001b[0;34m\u001b[0m\u001b[0m\n",
            "\u001b[0;31mModuleNotFoundError\u001b[0m: No module named 'dateandtime'",
            "",
            "\u001b[0;31m---------------------------------------------------------------------------\u001b[0;32m\nNOTE: If your import is failing due to a missing package, you can\nmanually install dependencies using either !pip or !apt.\n\nTo view examples of installing some common dependencies, click the\n\"Open Examples\" button below.\n\u001b[0;31m---------------------------------------------------------------------------\u001b[0m\n"
          ],
          "errorDetails": {
            "actions": [
              {
                "action": "open_url",
                "actionText": "Open Examples",
                "url": "/notebooks/snippets/importing_libraries.ipynb"
              }
            ]
          }
        }
      ]
    },
    {
      "cell_type": "code",
      "source": [
        "import time\n",
        "\n",
        "def pause ():\n",
        "    for i in range(10, 0, -1):\n",
        "         print (f\"The program will end in {i}. . .\")\n",
        "         time.sleep(1)\n",
        "pause ()\n",
        "\n",
        "def current_time ():\n",
        "    t = time.strftime(\"%I:%M:%p\")\n",
        "    return t\n",
        "\n",
        "print(current_time ())\n",
        "\n",
        "def current_date():\n",
        "    d = time.strftime(\"%b/%d/%Y\")\n",
        "    return d\n",
        "\n",
        "print(current_date())\n"
      ],
      "metadata": {
        "colab": {
          "base_uri": "https://localhost:8080/"
        },
        "id": "di3egFGPNdMZ",
        "outputId": "bc9b731e-d577-4687-c869-5fc616b138d2"
      },
      "execution_count": 48,
      "outputs": [
        {
          "output_type": "stream",
          "name": "stdout",
          "text": [
            "The program will end in 10. . .\n",
            "The program will end in 9. . .\n",
            "The program will end in 8. . .\n",
            "The program will end in 7. . .\n",
            "The program will end in 6. . .\n",
            "The program will end in 5. . .\n",
            "The program will end in 4. . .\n",
            "The program will end in 3. . .\n",
            "The program will end in 2. . .\n",
            "The program will end in 1. . .\n",
            "10:46:AM\n",
            "Feb/15/2025\n"
          ]
        }
      ]
    },
    {
      "cell_type": "code",
      "source": [
        "from dateandtime import current_time, current_time\n",
        "\n",
        "print (\"The current time is\", current_time())\n",
        "print (\"The current time is\", current_date())"
      ],
      "metadata": {
        "colab": {
          "base_uri": "https://localhost:8080/",
          "height": 382
        },
        "id": "36FBi6YnOEqi",
        "outputId": "1db7f096-8f72-42c0-b590-f56c358b7d59"
      },
      "execution_count": 49,
      "outputs": [
        {
          "output_type": "error",
          "ename": "ModuleNotFoundError",
          "evalue": "No module named 'dateandtime'",
          "traceback": [
            "\u001b[0;31m---------------------------------------------------------------------------\u001b[0m",
            "\u001b[0;31mModuleNotFoundError\u001b[0m                       Traceback (most recent call last)",
            "\u001b[0;32m<ipython-input-49-170afb07bee2>\u001b[0m in \u001b[0;36m<cell line: 0>\u001b[0;34m()\u001b[0m\n\u001b[0;32m----> 1\u001b[0;31m \u001b[0;32mfrom\u001b[0m \u001b[0mdateandtime\u001b[0m \u001b[0;32mimport\u001b[0m \u001b[0mcurrent_time\u001b[0m\u001b[0;34m,\u001b[0m \u001b[0mcurrent_time\u001b[0m\u001b[0;34m\u001b[0m\u001b[0;34m\u001b[0m\u001b[0m\n\u001b[0m\u001b[1;32m      2\u001b[0m \u001b[0;34m\u001b[0m\u001b[0m\n\u001b[1;32m      3\u001b[0m \u001b[0mprint\u001b[0m \u001b[0;34m(\u001b[0m\u001b[0;34m\"The current time is\"\u001b[0m\u001b[0;34m,\u001b[0m \u001b[0mcurrent_time\u001b[0m\u001b[0;34m(\u001b[0m\u001b[0;34m)\u001b[0m\u001b[0;34m)\u001b[0m\u001b[0;34m\u001b[0m\u001b[0;34m\u001b[0m\u001b[0m\n\u001b[1;32m      4\u001b[0m \u001b[0mprint\u001b[0m \u001b[0;34m(\u001b[0m\u001b[0;34m\"The current time is\"\u001b[0m\u001b[0;34m,\u001b[0m \u001b[0mcurrent_date\u001b[0m\u001b[0;34m(\u001b[0m\u001b[0;34m)\u001b[0m\u001b[0;34m)\u001b[0m\u001b[0;34m\u001b[0m\u001b[0;34m\u001b[0m\u001b[0m\n",
            "\u001b[0;31mModuleNotFoundError\u001b[0m: No module named 'dateandtime'",
            "",
            "\u001b[0;31m---------------------------------------------------------------------------\u001b[0;32m\nNOTE: If your import is failing due to a missing package, you can\nmanually install dependencies using either !pip or !apt.\n\nTo view examples of installing some common dependencies, click the\n\"Open Examples\" button below.\n\u001b[0;31m---------------------------------------------------------------------------\u001b[0m\n"
          ],
          "errorDetails": {
            "actions": [
              {
                "action": "open_url",
                "actionText": "Open Examples",
                "url": "/notebooks/snippets/importing_libraries.ipynb"
              }
            ]
          }
        }
      ]
    },
    {
      "cell_type": "markdown",
      "source": [
        "SUPPLEMENTARY ACTIVITY"
      ],
      "metadata": {
        "id": "VbtDh5CYOgCY"
      }
    },
    {
      "cell_type": "code",
      "source": [
        "def censor_bad_words(sentence, bad_words):\n",
        "    words = sentence.split()\n",
        "    for i in range(len(words)):\n",
        "        if words[i].lower() in bad_words:\n",
        "            words[i] = '*' * len(words[i])\n",
        "    return ' '.join(words)\n",
        "\n",
        "sentence = input(\"Enter a sentence: \")\n",
        "\n",
        "bad_words_input = input(\"Enter the bad words (separated by space): \")\n",
        "bad_words = bad_words_input.lower().split()\n",
        "\n",
        "filtered_sentence = censor_bad_words(sentence, bad_words)\n",
        "print(filtered_sentence)\n",
        "\n"
      ],
      "metadata": {
        "colab": {
          "base_uri": "https://localhost:8080/"
        },
        "id": "Shrr9TZWPw0t",
        "outputId": "4586c0c6-a077-493d-8d6d-79d531588540"
      },
      "execution_count": 53,
      "outputs": [
        {
          "output_type": "stream",
          "name": "stdout",
          "text": [
            "Enter a sentence: what the fuck\n",
            "Enter the bad words (separated by space): fuck\n",
            "what the ****\n"
          ]
        }
      ]
    },
    {
      "cell_type": "code",
      "source": [
        "import math\n",
        "\n",
        "g = 9.81  # Acceleration due to gravity in m/s^2\n",
        "\n",
        "def projectilemotion_solver(speed, angle):\n",
        "    angle_rad = math.radians(angle)\n",
        "\n",
        "    horizontal_range = (speed**2 * math.sin(2 * angle_rad)) / g\n",
        "\n",
        "    max_height = (speed**2 * math.sin(angle_rad)**2) / (2 * g)\n",
        "\n",
        "    return horizontal_range, max_height\n",
        "\n",
        "if __name__ == \"__main__\":\n",
        "    speed = 11.0  # in m/s\n",
        "    angle = 20.0  # in degrees\n",
        "\n",
        "    range_, height = projectilemotion_solver(speed, angle)\n",
        "\n",
        "    print(f\"The horizontal range is: {range_:.2f} meters.\")\n",
        "    print(f\"The maximum height is: {height:.2f} meters.\")\n",
        "\n",
        "\n"
      ],
      "metadata": {
        "colab": {
          "base_uri": "https://localhost:8080/"
        },
        "id": "v8mIXpECSLnQ",
        "outputId": "55c23910-dbf2-4ad3-8845-09635d85c298"
      },
      "execution_count": 58,
      "outputs": [
        {
          "output_type": "stream",
          "name": "stdout",
          "text": [
            "The horizontal range is: 7.93 meters.\n",
            "The maximum height is: 0.72 meters.\n"
          ]
        }
      ]
    },
    {
      "cell_type": "code",
      "source": [
        "import math\n",
        "\n",
        "def solve_quadratic(a, b, c):\n",
        "    discriminant = b**2 - 4*a*c\n",
        "\n",
        "    if discriminant > 0:\n",
        "        root1 = (-b + math.sqrt(discriminant)) / (2 * a)\n",
        "        root2 = (-b - math.sqrt(discriminant)) / (2 * a)\n",
        "        return f\"Two real roots: {root1} and {root2}\"\n",
        "    elif discriminant == 0:\n",
        "        root = -b / (2 * a)\n",
        "        return f\"One real root: {root}\"\n",
        "    else:\n",
        "        real_part = -b / (2 * a)\n",
        "        imaginary_part = math.sqrt(abs(discriminant)) / (2 * a)\n",
        "        return f\"Two complex roots: {real_part} + {imaginary_part}i and {real_part} - {imaginary_part}i\"\n",
        "\n",
        "def write_results_to_file(a, b, c, result):\n",
        "    with open(\"quadratic_results.txt\", \"w\") as file:\n",
        "        file.write(f\"Quadratic Equation: {a}x^2 + {b}x + {c} = 0\\n\")\n",
        "        file.write(f\"Result: {result}\\n\")\n",
        "\n",
        "if __name__ == \"__main__\":\n",
        "    print(\"Enter the coefficients of the quadratic equation:\")\n",
        "    a = float(input(\"a: \"))\n",
        "    b = float(input(\"b: \"))\n",
        "    c = float(input(\"c: \"))\n",
        "\n",
        "    result = solve_quadratic(a, b, c)\n",
        "\n",
        "    write_results_to_file(a, b, c, result)\n",
        "\n",
        "    print(\"The result has been written to 'quadratic_results.txt'.\")\n",
        "    print(f\"Result: {result}\")\n",
        "\n"
      ],
      "metadata": {
        "colab": {
          "base_uri": "https://localhost:8080/"
        },
        "id": "GdFa2wICWzLF",
        "outputId": "d5c97fbb-2a23-403f-8639-038fcc041fd6"
      },
      "execution_count": 59,
      "outputs": [
        {
          "output_type": "stream",
          "name": "stdout",
          "text": [
            "Enter the coefficients of the quadratic equation:\n",
            "a: 25\n",
            "b: 50\n",
            "c: 35\n",
            "The result has been written to 'quadratic_results.txt'.\n",
            "Result: Two complex roots: -1.0 + 0.6324555320336759i and -1.0 - 0.6324555320336759i\n"
          ]
        }
      ]
    }
  ]
}