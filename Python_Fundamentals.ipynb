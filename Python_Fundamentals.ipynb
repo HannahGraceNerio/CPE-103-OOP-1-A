{
  "nbformat": 4,
  "nbformat_minor": 0,
  "metadata": {
    "colab": {
      "provenance": [],
      "authorship_tag": "ABX9TyOf7Bvk1Jf6ql1KoDH0ja2s",
      "include_colab_link": true
    },
    "kernelspec": {
      "name": "python3",
      "display_name": "Python 3"
    },
    "language_info": {
      "name": "python"
    }
  },
  "cells": [
    {
      "cell_type": "markdown",
      "metadata": {
        "id": "view-in-github",
        "colab_type": "text"
      },
      "source": [
        "<a href=\"https://colab.research.google.com/github/HannahGraceNerio/CPE-103-OOP-1-A/blob/main/Python_Fundamentals.ipynb\" target=\"_parent\"><img src=\"https://colab.research.google.com/assets/colab-badge.svg\" alt=\"Open In Colab\"/></a>"
      ]
    },
    {
      "cell_type": "markdown",
      "source": [
        "PYTHON INDENTATION"
      ],
      "metadata": {
        "id": "AoMKrdHkFmcD"
      }
    },
    {
      "cell_type": "code",
      "source": [
        "if 5 > 2:\n",
        "  print(\"Five is greater than two!\")"
      ],
      "metadata": {
        "colab": {
          "base_uri": "https://localhost:8080/"
        },
        "id": "N-GCpHdDGOXL",
        "outputId": "b3af808d-68b9-4b15-a9eb-5ed4e067d4ab"
      },
      "execution_count": 2,
      "outputs": [
        {
          "output_type": "stream",
          "name": "stdout",
          "text": [
            "Five is greater than two!\n"
          ]
        }
      ]
    },
    {
      "cell_type": "markdown",
      "source": [
        "PYTHON COMMENTS"
      ],
      "metadata": {
        "id": "94alNfurI-qD"
      }
    },
    {
      "cell_type": "code",
      "source": [
        "#This is a comment\n",
        "print (\"Hello, Guys\")"
      ],
      "metadata": {
        "colab": {
          "base_uri": "https://localhost:8080/"
        },
        "id": "Zdjm-TfDGdKT",
        "outputId": "023ada8c-3033-4546-fe9c-68434e0ddc6e"
      },
      "execution_count": 6,
      "outputs": [
        {
          "output_type": "stream",
          "name": "stdout",
          "text": [
            "Hello, Guys\n"
          ]
        }
      ]
    },
    {
      "cell_type": "markdown",
      "source": [
        "PYTHON VARIABLE"
      ],
      "metadata": {
        "id": "20qhU_YtKTxa"
      }
    },
    {
      "cell_type": "code",
      "source": [
        "X = 1\n",
        "a, b = 0, -1\n",
        "a, b, c=0, -1, 2\n",
        "c=\"sally\"\n",
        "print (c)"
      ],
      "metadata": {
        "colab": {
          "base_uri": "https://localhost:8080/"
        },
        "id": "RIA7t6z4KW0i",
        "outputId": "d92f3bf9-cb84-49ad-f99a-54a797470ca1"
      },
      "execution_count": 13,
      "outputs": [
        {
          "output_type": "stream",
          "name": "stdout",
          "text": [
            "sally\n"
          ]
        }
      ]
    },
    {
      "cell_type": "markdown",
      "source": [
        "CASTING"
      ],
      "metadata": {
        "id": "8djzxh3AMBnj"
      }
    },
    {
      "cell_type": "code",
      "source": [
        "b = \"sally\" #This is a type of string\n",
        "b = int (4)\n",
        "print (b)\n",
        "\n",
        "b = float (4)\n",
        "print(b)"
      ],
      "metadata": {
        "colab": {
          "base_uri": "https://localhost:8080/"
        },
        "id": "Ttxozph9MEHT",
        "outputId": "7cbfdc80-a338-4280-ec34-9986ca625138"
      },
      "execution_count": 14,
      "outputs": [
        {
          "output_type": "stream",
          "name": "stdout",
          "text": [
            "4\n",
            "4.0\n"
          ]
        }
      ]
    },
    {
      "cell_type": "markdown",
      "source": [
        "TYPE () FUNCTION"
      ],
      "metadata": {
        "id": "srIyj2lONIez"
      }
    },
    {
      "cell_type": "code",
      "source": [
        "x = 5\n",
        "y = \"John\"\n",
        "print (type(x))\n",
        "print (type(y))"
      ],
      "metadata": {
        "colab": {
          "base_uri": "https://localhost:8080/"
        },
        "id": "FA_eNir6NL1E",
        "outputId": "fa142cc9-5aac-40dd-c393-1f3dc47cc4bb"
      },
      "execution_count": 16,
      "outputs": [
        {
          "output_type": "stream",
          "name": "stdout",
          "text": [
            "<class 'int'>\n",
            "<class 'str'>\n"
          ]
        }
      ]
    },
    {
      "cell_type": "markdown",
      "source": [
        "\"DOUBLE QUOTES\" OR \"SINGLE QUOTES\""
      ],
      "metadata": {
        "id": "_onf_ZdrN_D7"
      }
    },
    {
      "cell_type": "code",
      "source": [
        "y = \"John\"\n",
        "x = 'John'"
      ],
      "metadata": {
        "id": "XvZwG2RnOEgr"
      },
      "execution_count": 17,
      "outputs": []
    },
    {
      "cell_type": "markdown",
      "source": [
        "CASE SENSITIVE"
      ],
      "metadata": {
        "id": "IYjlNu0DOZES"
      }
    },
    {
      "cell_type": "code",
      "source": [
        "a = 4\n",
        "A = \"Sally\"\n",
        "#A will not overwrite a"
      ],
      "metadata": {
        "id": "tVu7szcjOknS"
      },
      "execution_count": 18,
      "outputs": []
    },
    {
      "cell_type": "markdown",
      "source": [
        "MULTIPLE VARIABLES"
      ],
      "metadata": {
        "id": "UxWwrkRTO2Rz"
      }
    },
    {
      "cell_type": "code",
      "source": [
        "x, y , z = \"one\", \"two\", \"three\"\n",
        "print (x)\n",
        "print (y)\n",
        "print (z)"
      ],
      "metadata": {
        "colab": {
          "base_uri": "https://localhost:8080/"
        },
        "id": "x_yO2df5O4tM",
        "outputId": "748e0654-721a-4b81-afbe-0fd6e83ab120"
      },
      "execution_count": 19,
      "outputs": [
        {
          "output_type": "stream",
          "name": "stdout",
          "text": [
            "one\n",
            "two\n",
            "three\n"
          ]
        }
      ]
    },
    {
      "cell_type": "markdown",
      "source": [
        "ONE VALUE TO MULTIPLE VARIABLES"
      ],
      "metadata": {
        "id": "g7Ap1X1DPhxT"
      }
    },
    {
      "cell_type": "code",
      "source": [
        "x = y = z = \"four\"\n",
        "print (x)\n",
        "print (y)\n",
        "print (z)"
      ],
      "metadata": {
        "colab": {
          "base_uri": "https://localhost:8080/"
        },
        "id": "tUPF4G5yPkRr",
        "outputId": "91015eb8-67e3-4dff-b731-69740344354e"
      },
      "execution_count": 21,
      "outputs": [
        {
          "output_type": "stream",
          "name": "stdout",
          "text": [
            "four\n",
            "four\n",
            "four\n"
          ]
        }
      ]
    },
    {
      "cell_type": "markdown",
      "source": [
        "OUTPUT VARIABLES"
      ],
      "metadata": {
        "id": "jVhhyufXQCnC"
      }
    },
    {
      "cell_type": "code",
      "source": [
        "x = \"enjoying\"\n",
        "print (\"python programming is \" +  x )"
      ],
      "metadata": {
        "colab": {
          "base_uri": "https://localhost:8080/"
        },
        "id": "s01O6v6kQETb",
        "outputId": "d41f8c13-c5a9-4fd3-e442-ceb57eba3967"
      },
      "execution_count": 29,
      "outputs": [
        {
          "output_type": "stream",
          "name": "stdout",
          "text": [
            "python programming is enjoying\n"
          ]
        }
      ]
    },
    {
      "cell_type": "markdown",
      "source": [
        "ARITHETIC OPERATIONS"
      ],
      "metadata": {
        "id": "Arh9M8PkRwui"
      }
    },
    {
      "cell_type": "code",
      "source": [
        "x = 10\n",
        "y = 3\n",
        "#Exponentiation\n",
        "x**y\n",
        "#Division\n",
        "x/y\n",
        "#Modulo\n",
        "x%y"
      ],
      "metadata": {
        "colab": {
          "base_uri": "https://localhost:8080/"
        },
        "id": "0mw0Bbi6R0oT",
        "outputId": "fa032eb6-ef12-4781-8617-da2e5afc14d6"
      },
      "execution_count": 35,
      "outputs": [
        {
          "output_type": "execute_result",
          "data": {
            "text/plain": [
              "1"
            ]
          },
          "metadata": {},
          "execution_count": 35
        }
      ]
    },
    {
      "cell_type": "markdown",
      "source": [
        "ASSIGNMENT OPERATORS"
      ],
      "metadata": {
        "id": "dyzTJZzKSRtT"
      }
    },
    {
      "cell_type": "code",
      "source": [
        "x = 3\n",
        "x*= 3\n",
        "# x = x*3\n",
        "print (x)"
      ],
      "metadata": {
        "colab": {
          "base_uri": "https://localhost:8080/"
        },
        "id": "h_u0JW3xSUJq",
        "outputId": "b949c3fb-34f7-4e5e-d0b5-75487bfdbcfa"
      },
      "execution_count": 36,
      "outputs": [
        {
          "output_type": "stream",
          "name": "stdout",
          "text": [
            "9\n"
          ]
        }
      ]
    },
    {
      "cell_type": "markdown",
      "source": [
        "COMPARISON OPERATORS"
      ],
      "metadata": {
        "id": "zgXSjzO0S12b"
      }
    },
    {
      "cell_type": "code",
      "source": [
        "x = 5\n",
        "y = 2\n",
        "x>>y"
      ],
      "metadata": {
        "colab": {
          "base_uri": "https://localhost:8080/"
        },
        "id": "PWqPQ44kS4-C",
        "outputId": "604cdb0d-ac1d-4cc3-b3f1-0091edb301c6"
      },
      "execution_count": 37,
      "outputs": [
        {
          "output_type": "execute_result",
          "data": {
            "text/plain": [
              "1"
            ]
          },
          "metadata": {},
          "execution_count": 37
        }
      ]
    },
    {
      "cell_type": "markdown",
      "source": [
        "LOGICAL OPERATORS"
      ],
      "metadata": {
        "id": "gHJ4Z31YTXC6"
      }
    },
    {
      "cell_type": "code",
      "source": [
        "a, b, c = 0, -1, 6\n",
        "a > b and c> b"
      ],
      "metadata": {
        "colab": {
          "base_uri": "https://localhost:8080/"
        },
        "id": "qGUB8bYdTYiT",
        "outputId": "8201e9b5-b490-4c66-9cf8-b0b95d355e1a"
      },
      "execution_count": 43,
      "outputs": [
        {
          "output_type": "execute_result",
          "data": {
            "text/plain": [
              "True"
            ]
          },
          "metadata": {},
          "execution_count": 43
        }
      ]
    },
    {
      "cell_type": "markdown",
      "source": [
        "IDENTITY OPERATORS"
      ],
      "metadata": {
        "id": "QxH6W7deTwLr"
      }
    },
    {
      "cell_type": "code",
      "source": [
        "a, b, c = 0, 1, 5\n",
        "a is c"
      ],
      "metadata": {
        "colab": {
          "base_uri": "https://localhost:8080/"
        },
        "id": "307B2wc5TyRj",
        "outputId": "938efa02-27d6-4bee-be14-38035d692144"
      },
      "execution_count": 41,
      "outputs": [
        {
          "output_type": "execute_result",
          "data": {
            "text/plain": [
              "False"
            ]
          },
          "metadata": {},
          "execution_count": 41
        }
      ]
    },
    {
      "cell_type": "markdown",
      "source": [
        "BITWISE OPERATORS"
      ],
      "metadata": {
        "id": "tOkTA814UTb6"
      }
    },
    {
      "cell_type": "code",
      "source": [
        "#Decimal to binart\n",
        "#10 = 1010\n",
        "x = 10\n",
        "x>>2\n",
        "print (x)"
      ],
      "metadata": {
        "colab": {
          "base_uri": "https://localhost:8080/"
        },
        "id": "XKHT13jRUWkL",
        "outputId": "f68a1e57-4828-4fdf-bdc9-f5c63283751e"
      },
      "execution_count": 47,
      "outputs": [
        {
          "output_type": "stream",
          "name": "stdout",
          "text": [
            "10\n"
          ]
        }
      ]
    },
    {
      "cell_type": "markdown",
      "source": [
        "Application 1"
      ],
      "metadata": {
        "id": "DZoNa-sJYSpc"
      }
    },
    {
      "cell_type": "code",
      "source": [
        "#Application 1\n",
        "#area of rectangle\n",
        "length = 5\n",
        "width = 2\n",
        "area = x*y\n",
        "print (\"the area of rectangle is \" , area, \"cm^2\" )\n"
      ],
      "metadata": {
        "colab": {
          "base_uri": "https://localhost:8080/"
        },
        "id": "Uc0Nn7A7Yb17",
        "outputId": "2be84822-8eaf-4777-e84d-6f03a66e675f"
      },
      "execution_count": 66,
      "outputs": [
        {
          "output_type": "stream",
          "name": "stdout",
          "text": [
            "the area of rectangle is  10 cm^2\n"
          ]
        }
      ]
    },
    {
      "cell_type": "code",
      "source": [
        "#application 1\n",
        "#area of circle\n",
        "radius = 8\n",
        "pi = 3.14\n",
        "area = pi*radius**2\n",
        "print (\"the area of circle is\", area, \"cm^2\")"
      ],
      "metadata": {
        "colab": {
          "base_uri": "https://localhost:8080/"
        },
        "id": "VZqWLzU2cb1L",
        "outputId": "a40a63cf-f6e2-4610-e6fe-5a76764c8512"
      },
      "execution_count": 69,
      "outputs": [
        {
          "output_type": "stream",
          "name": "stdout",
          "text": [
            "the area of circle is 200.96 cm^2\n"
          ]
        }
      ]
    },
    {
      "cell_type": "code",
      "source": [
        "#Application 1\n",
        "#area of square\n",
        "side = 6\n",
        "area = 6**2\n",
        "print (\"the area of a square is\", area, \"cm^2\")"
      ],
      "metadata": {
        "colab": {
          "base_uri": "https://localhost:8080/"
        },
        "id": "Hg_XPdnYaQhT",
        "outputId": "9ab0bc7a-7eab-4e23-b4e5-f1a34fd55b2c"
      },
      "execution_count": 65,
      "outputs": [
        {
          "output_type": "stream",
          "name": "stdout",
          "text": [
            "the area of a square is 36 cm^2\n"
          ]
        }
      ]
    },
    {
      "cell_type": "code",
      "source": [
        "#application 1\n",
        "#volume of cone\n",
        "radius = 10\n",
        "height = 12\n",
        "pi = 3.14\n",
        "volume = 1/3*pi*radius**2*height\n",
        "print (\"the volume of cone is\", volume, \" cm^2\")"
      ],
      "metadata": {
        "colab": {
          "base_uri": "https://localhost:8080/"
        },
        "id": "vDPaTS-SdSvD",
        "outputId": "46fb3d96-325b-44dd-91e8-1af179d81486"
      },
      "execution_count": 71,
      "outputs": [
        {
          "output_type": "stream",
          "name": "stdout",
          "text": [
            "the volume of cone is 1256.0  cm^2\n"
          ]
        }
      ]
    }
  ]
}