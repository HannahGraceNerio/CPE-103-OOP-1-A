{
  "nbformat": 4,
  "nbformat_minor": 0,
  "metadata": {
    "colab": {
      "provenance": [],
      "authorship_tag": "ABX9TyNDhTBn780Drtt9N43jX+/u",
      "include_colab_link": true
    },
    "kernelspec": {
      "name": "python3",
      "display_name": "Python 3"
    },
    "language_info": {
      "name": "python"
    }
  },
  "cells": [
    {
      "cell_type": "markdown",
      "metadata": {
        "id": "view-in-github",
        "colab_type": "text"
      },
      "source": [
        "<a href=\"https://colab.research.google.com/github/HannahGraceNerio/CPE-103-OOP-1-A/blob/main/Laboratory_2.ipynb\" target=\"_parent\"><img src=\"https://colab.research.google.com/assets/colab-badge.svg\" alt=\"Open In Colab\"/></a>"
      ]
    },
    {
      "cell_type": "code",
      "execution_count": 4,
      "metadata": {
        "colab": {
          "base_uri": "https://localhost:8080/"
        },
        "id": "6HgBI5EElErU",
        "outputId": "1964a095-5ad3-49dd-cb86-f615d4c3126c"
      },
      "outputs": [
        {
          "output_type": "stream",
          "name": "stdout",
          "text": [
            "5\n",
            "5.0\n"
          ]
        },
        {
          "output_type": "execute_result",
          "data": {
            "text/plain": [
              "float"
            ]
          },
          "metadata": {},
          "execution_count": 4
        }
      ],
      "source": [
        "value=5\n",
        "print(value)\n",
        "type(value)\n",
        "\n",
        "value=5.0\n",
        "print(value)\n",
        "type (value)"
      ]
    },
    {
      "cell_type": "code",
      "source": [
        "value=2+3j\n",
        "print(value)\n",
        "type (value)"
      ],
      "metadata": {
        "colab": {
          "base_uri": "https://localhost:8080/"
        },
        "id": "Oh3Da294mEvl",
        "outputId": "875b54fd-b6e1-4fcb-c76c-244e1ed5a011"
      },
      "execution_count": 7,
      "outputs": [
        {
          "output_type": "stream",
          "name": "stdout",
          "text": [
            "(2+3j)\n"
          ]
        },
        {
          "output_type": "execute_result",
          "data": {
            "text/plain": [
              "complex"
            ]
          },
          "metadata": {},
          "execution_count": 7
        }
      ]
    },
    {
      "cell_type": "code",
      "source": [
        "value='Hello World'\n",
        "print(value)\n",
        "type(value)"
      ],
      "metadata": {
        "colab": {
          "base_uri": "https://localhost:8080/"
        },
        "id": "JjrT43_vmfd8",
        "outputId": "453c326c-f3d7-4e92-cfaa-ecb680180136"
      },
      "execution_count": 8,
      "outputs": [
        {
          "output_type": "stream",
          "name": "stdout",
          "text": [
            "Hello World\n"
          ]
        },
        {
          "output_type": "execute_result",
          "data": {
            "text/plain": [
              "str"
            ]
          },
          "metadata": {},
          "execution_count": 8
        }
      ]
    },
    {
      "cell_type": "code",
      "source": [
        "value=\"Hello World\"\n",
        "print(value)\n",
        "type(value)"
      ],
      "metadata": {
        "colab": {
          "base_uri": "https://localhost:8080/"
        },
        "id": "AUPhreIpmn8W",
        "outputId": "e58012f5-e2a6-48ca-d1ad-e148b773b088"
      },
      "execution_count": 9,
      "outputs": [
        {
          "output_type": "stream",
          "name": "stdout",
          "text": [
            "Hello World\n"
          ]
        },
        {
          "output_type": "execute_result",
          "data": {
            "text/plain": [
              "str"
            ]
          },
          "metadata": {},
          "execution_count": 9
        }
      ]
    },
    {
      "cell_type": "code",
      "source": [
        "value=True\n",
        "print(value)\n",
        "type(value)"
      ],
      "metadata": {
        "colab": {
          "base_uri": "https://localhost:8080/"
        },
        "id": "XYEfGAJ7m032",
        "outputId": "3f3fd3e5-61a2-4234-9859-a7ad9408bde6"
      },
      "execution_count": 10,
      "outputs": [
        {
          "output_type": "stream",
          "name": "stdout",
          "text": [
            "True\n"
          ]
        },
        {
          "output_type": "execute_result",
          "data": {
            "text/plain": [
              "bool"
            ]
          },
          "metadata": {},
          "execution_count": 10
        }
      ]
    },
    {
      "cell_type": "code",
      "source": [
        "value=(False)\n",
        "print(value)\n",
        "type(value)"
      ],
      "metadata": {
        "colab": {
          "base_uri": "https://localhost:8080/"
        },
        "id": "QzxsAhvxm9p1",
        "outputId": "4d73b068-f69b-4e3d-aa70-a2858167e352"
      },
      "execution_count": 11,
      "outputs": [
        {
          "output_type": "stream",
          "name": "stdout",
          "text": [
            "False\n"
          ]
        },
        {
          "output_type": "execute_result",
          "data": {
            "text/plain": [
              "bool"
            ]
          },
          "metadata": {},
          "execution_count": 11
        }
      ]
    },
    {
      "cell_type": "code",
      "source": [
        "value=([1,2,3,4,5])\n",
        "print(value)\n",
        "type(value)"
      ],
      "metadata": {
        "colab": {
          "base_uri": "https://localhost:8080/"
        },
        "id": "bORUNWStnDZ9",
        "outputId": "878775df-00ed-4ff9-d5fe-c3a90c538b31"
      },
      "execution_count": 12,
      "outputs": [
        {
          "output_type": "stream",
          "name": "stdout",
          "text": [
            "[1, 2, 3, 4, 5]\n"
          ]
        },
        {
          "output_type": "execute_result",
          "data": {
            "text/plain": [
              "list"
            ]
          },
          "metadata": {},
          "execution_count": 12
        }
      ]
    },
    {
      "cell_type": "code",
      "source": [
        "value=((1,2,3,4,5))\n",
        "print(value)\n",
        "type(value)"
      ],
      "metadata": {
        "colab": {
          "base_uri": "https://localhost:8080/"
        },
        "id": "nw7QWOB6nPGd",
        "outputId": "ec9b911c-5f86-4907-ed78-7051d610e33d"
      },
      "execution_count": 14,
      "outputs": [
        {
          "output_type": "stream",
          "name": "stdout",
          "text": [
            "(1, 2, 3, 4, 5)\n"
          ]
        },
        {
          "output_type": "execute_result",
          "data": {
            "text/plain": [
              "tuple"
            ]
          },
          "metadata": {},
          "execution_count": 14
        }
      ]
    },
    {
      "cell_type": "code",
      "source": [
        "value=({'name':'Hannah'})\n",
        "print (value)\n",
        "type(value)"
      ],
      "metadata": {
        "colab": {
          "base_uri": "https://localhost:8080/"
        },
        "id": "1l5aqOp3naTV",
        "outputId": "ba08eee0-2792-4eaf-b30a-4b8e36cc21c8"
      },
      "execution_count": 79,
      "outputs": [
        {
          "output_type": "stream",
          "name": "stdout",
          "text": [
            "{'name': 'Hannah'}\n"
          ]
        },
        {
          "output_type": "execute_result",
          "data": {
            "text/plain": [
              "dict"
            ]
          },
          "metadata": {},
          "execution_count": 79
        }
      ]
    },
    {
      "cell_type": "code",
      "source": [
        "value=(None)\n",
        "print(value)\n",
        "type(value)"
      ],
      "metadata": {
        "colab": {
          "base_uri": "https://localhost:8080/"
        },
        "id": "kRLGpaV0n6dO",
        "outputId": "dda19cc8-ba69-45c2-c7bc-ab2a9b64d3f7"
      },
      "execution_count": 16,
      "outputs": [
        {
          "output_type": "stream",
          "name": "stdout",
          "text": [
            "None\n"
          ]
        },
        {
          "output_type": "execute_result",
          "data": {
            "text/plain": [
              "NoneType"
            ]
          },
          "metadata": {},
          "execution_count": 16
        }
      ]
    },
    {
      "cell_type": "code",
      "source": [
        "value=5\n",
        "value2=-6\n",
        "print (value+value2)\n",
        "type(value+value2)"
      ],
      "metadata": {
        "colab": {
          "base_uri": "https://localhost:8080/"
        },
        "id": "ZJmJ_L7XoQ7l",
        "outputId": "6456c5cf-7e1c-4287-ba5e-923b6cb7023f"
      },
      "execution_count": 31,
      "outputs": [
        {
          "output_type": "stream",
          "name": "stdout",
          "text": [
            "-1\n"
          ]
        },
        {
          "output_type": "execute_result",
          "data": {
            "text/plain": [
              "int"
            ]
          },
          "metadata": {},
          "execution_count": 31
        }
      ]
    },
    {
      "cell_type": "markdown",
      "source": [
        "PERFORMING OPERATIONS WITH PYTHON"
      ],
      "metadata": {
        "id": "GWmanVsHo6YO"
      }
    },
    {
      "cell_type": "code",
      "source": [
        "value, value2"
      ],
      "metadata": {
        "colab": {
          "base_uri": "https://localhost:8080/"
        },
        "id": "x2vMMFcxpKR9",
        "outputId": "1bd33373-fbaf-4aeb-dfd5-c830d07a3f22"
      },
      "execution_count": 32,
      "outputs": [
        {
          "output_type": "execute_result",
          "data": {
            "text/plain": [
              "(5, -6)"
            ]
          },
          "metadata": {},
          "execution_count": 32
        }
      ]
    },
    {
      "cell_type": "code",
      "source": [
        "value,value2=5.0,6\n",
        "print(value+value2)\n",
        "type(value+value2)"
      ],
      "metadata": {
        "colab": {
          "base_uri": "https://localhost:8080/"
        },
        "id": "VP2fS-TXpbTe",
        "outputId": "9758a1e2-104a-4d77-91fc-c4f3a5e24538"
      },
      "execution_count": 40,
      "outputs": [
        {
          "output_type": "stream",
          "name": "stdout",
          "text": [
            "11.0\n"
          ]
        },
        {
          "output_type": "execute_result",
          "data": {
            "text/plain": [
              "float"
            ]
          },
          "metadata": {},
          "execution_count": 40
        }
      ]
    },
    {
      "cell_type": "code",
      "source": [
        "value,value2=-5,6.1\n",
        "print(value+value2)\n",
        "type(value+value2)"
      ],
      "metadata": {
        "colab": {
          "base_uri": "https://localhost:8080/"
        },
        "id": "wIyh1xNrp0lO",
        "outputId": "22a6813c-57f3-479f-eec7-67ddde187be2"
      },
      "execution_count": 42,
      "outputs": [
        {
          "output_type": "stream",
          "name": "stdout",
          "text": [
            "1.0999999999999996\n"
          ]
        },
        {
          "output_type": "execute_result",
          "data": {
            "text/plain": [
              "float"
            ]
          },
          "metadata": {},
          "execution_count": 42
        }
      ]
    },
    {
      "cell_type": "code",
      "source": [
        "value,value2=\"Hello\", 'world'\n",
        "print(value+value2)\n",
        "type(value+value2)"
      ],
      "metadata": {
        "colab": {
          "base_uri": "https://localhost:8080/"
        },
        "id": "QckT7uGpp8Nm",
        "outputId": "90fde56c-91ac-4485-81d6-f7552f8016f3"
      },
      "execution_count": 44,
      "outputs": [
        {
          "output_type": "stream",
          "name": "stdout",
          "text": [
            "Helloworld\n"
          ]
        },
        {
          "output_type": "execute_result",
          "data": {
            "text/plain": [
              "str"
            ]
          },
          "metadata": {},
          "execution_count": 44
        }
      ]
    },
    {
      "cell_type": "code",
      "source": [
        "value,value2=[1,2,3],[4,5,6]\n",
        "print(value+value2)\n",
        "type(value+value2)"
      ],
      "metadata": {
        "colab": {
          "base_uri": "https://localhost:8080/"
        },
        "id": "xehgOOskqcyX",
        "outputId": "07df68b9-37e7-42db-c4fa-2045c4c6fe48"
      },
      "execution_count": 45,
      "outputs": [
        {
          "output_type": "stream",
          "name": "stdout",
          "text": [
            "[1, 2, 3, 4, 5, 6]\n"
          ]
        },
        {
          "output_type": "execute_result",
          "data": {
            "text/plain": [
              "list"
            ]
          },
          "metadata": {},
          "execution_count": 45
        }
      ]
    },
    {
      "cell_type": "code",
      "source": [
        "value,value2=(1,2,3),(4,5,6)\n",
        "print(value+value2)\n",
        "type(value+value2)"
      ],
      "metadata": {
        "colab": {
          "base_uri": "https://localhost:8080/"
        },
        "id": "vxhdM5viqmUl",
        "outputId": "2087beef-b38a-43eb-f1a1-e1deac1d9493"
      },
      "execution_count": 46,
      "outputs": [
        {
          "output_type": "stream",
          "name": "stdout",
          "text": [
            "(1, 2, 3, 4, 5, 6)\n"
          ]
        },
        {
          "output_type": "execute_result",
          "data": {
            "text/plain": [
              "tuple"
            ]
          },
          "metadata": {},
          "execution_count": 46
        }
      ]
    },
    {
      "cell_type": "code",
      "source": [
        "value,value2=(\"name:Royce \"),\"age :2\"\n",
        "print(str(value) + str (value2))"
      ],
      "metadata": {
        "colab": {
          "base_uri": "https://localhost:8080/"
        },
        "id": "z-rzxIN-qsxG",
        "outputId": "a6877f97-ce53-4a31-8fef-7bc2368c5932"
      },
      "execution_count": 78,
      "outputs": [
        {
          "output_type": "stream",
          "name": "stdout",
          "text": [
            "name:Royce age :2\n"
          ]
        }
      ]
    },
    {
      "cell_type": "code",
      "source": [
        "value,value2=30,4\n",
        "print(value*value2)\n",
        "print(value2**2)\n",
        "print(value2**3)\n",
        "print(value*value2+value2**2+1)\n",
        "print(value/value2)\n",
        "print(value%value2)"
      ],
      "metadata": {
        "colab": {
          "base_uri": "https://localhost:8080/"
        },
        "id": "Prxbxboxrp-_",
        "outputId": "69b332a7-c756-489c-a78f-0f2ebec54bdc"
      },
      "execution_count": 52,
      "outputs": [
        {
          "output_type": "stream",
          "name": "stdout",
          "text": [
            "120\n",
            "16\n",
            "64\n",
            "137\n",
            "7.5\n",
            "2\n"
          ]
        }
      ]
    },
    {
      "cell_type": "markdown",
      "source": [
        "ASSIGNING INPUT DATA TO A VARIABLE"
      ],
      "metadata": {
        "id": "vMtZOvrGsRs_"
      }
    },
    {
      "cell_type": "code",
      "source": [
        "name=input(\"Enter your name\")\n",
        "height=input(\"Enter your meters(m):\")\n",
        "weight=input(\"Enter your weight(kg)\")\n",
        "weight=float(weight)\n",
        "bmi=weight/float(height)**2\n",
        "print(bmi)\n",
        "print(name,\"your bmi is\",bmi)"
      ],
      "metadata": {
        "colab": {
          "base_uri": "https://localhost:8080/"
        },
        "id": "O51TRtYKsU2H",
        "outputId": "ef05a7fa-7494-4035-8f1c-1e5b350ddb45"
      },
      "execution_count": 59,
      "outputs": [
        {
          "output_type": "stream",
          "name": "stdout",
          "text": [
            "Enter your nameJohn Ray\n",
            "Enter your meters(m):1.6764\n",
            "Enter your weight(kg)60\n",
            "21.349904958763087\n",
            "John Ray your bmi is 21.349904958763087\n"
          ]
        }
      ]
    },
    {
      "cell_type": "markdown",
      "source": [
        "SUPPLEMENTARY ACTIVITY"
      ],
      "metadata": {
        "id": "GM1pvQiqvXKw"
      }
    },
    {
      "cell_type": "code",
      "source": [
        "#Python equivalent of the C code\n",
        "base=float(input(\"Enter the base of the triangle:\"))\n",
        "height=float(input(\"Enter the height of the triangle:\"))\n",
        "area=(1/2)*base*height\n",
        "print(\"The area of the triangle is\",area)"
      ],
      "metadata": {
        "colab": {
          "base_uri": "https://localhost:8080/"
        },
        "id": "qUf8uJQOvZp_",
        "outputId": "c1995ed8-dc65-41f6-988f-0dbf45f193bc"
      },
      "execution_count": 67,
      "outputs": [
        {
          "output_type": "stream",
          "name": "stdout",
          "text": [
            "Enter the base of the triangle:20\n",
            "Enter the height of the triangle:10\n",
            "The area of the triangle is 100.0\n"
          ]
        }
      ]
    },
    {
      "cell_type": "code",
      "source": [
        "#Celsius to Fahrenheit\n",
        "celsuis=float(input(\"Enter temperature in Celsius:\"))\n",
        "fahrenheit=(celsuis*9/5)+32\n",
        "print (\"%f Celsius is: %f fahrenheit\" % (celsuis,fahrenheit))"
      ],
      "metadata": {
        "colab": {
          "base_uri": "https://localhost:8080/"
        },
        "id": "Aa3tys5x1mzY",
        "outputId": "92ec7bf3-9342-4fe6-ec99-2d3ba1c75757"
      },
      "execution_count": 73,
      "outputs": [
        {
          "output_type": "stream",
          "name": "stdout",
          "text": [
            "Enter temperature in Celsius:25\n",
            "25.000000 Celsius is: 77.000000 fahrenheit\n"
          ]
        }
      ]
    },
    {
      "cell_type": "code",
      "source": [
        "#Program to calculate the distance between two points\n",
        "x1 = float(input(\"Enter x1: \"))\n",
        "y1 = float(input(\"Enter y1: \"))\n",
        "x2 = float(input(\"Enter x2: \"))\n",
        "y2 = float(input(\"Enter y2: \"))\n",
        "distance = ((x2 - x1) * 2 + (y2 - y1) * 2) ** 0.5\n",
        "print(f\"The distance between the points is {distance}\")"
      ],
      "metadata": {
        "colab": {
          "base_uri": "https://localhost:8080/"
        },
        "id": "9Gj_ojzx0A0B",
        "outputId": "ffb5e0af-29d3-4081-e440-32244bd3066c"
      },
      "execution_count": 69,
      "outputs": [
        {
          "output_type": "stream",
          "name": "stdout",
          "text": [
            "Enter x1: 5\n",
            "Enter y1: 2\n",
            "Enter x2: 3\n",
            "Enter y2: 6\n",
            "The distance between the points is 2.0\n"
          ]
        }
      ]
    }
  ]
}