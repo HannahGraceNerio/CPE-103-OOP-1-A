{
  "nbformat": 4,
  "nbformat_minor": 0,
  "metadata": {
    "colab": {
      "provenance": [],
      "authorship_tag": "ABX9TyP84C9cJSpGLz4FbjJuJDoJ",
      "include_colab_link": true
    },
    "kernelspec": {
      "name": "python3",
      "display_name": "Python 3"
    },
    "language_info": {
      "name": "python"
    }
  },
  "cells": [
    {
      "cell_type": "markdown",
      "metadata": {
        "id": "view-in-github",
        "colab_type": "text"
      },
      "source": [
        "<a href=\"https://colab.research.google.com/github/HannahGraceNerio/CPE-103-OOP-1-A/blob/main/Laboratory_3.ipynb\" target=\"_parent\"><img src=\"https://colab.research.google.com/assets/colab-badge.svg\" alt=\"Open In Colab\"/></a>"
      ]
    },
    {
      "cell_type": "code",
      "source": [
        "\"\"\"\n",
        "Accounts.py\n",
        "\"\"\"\n",
        "class Accounts():\n",
        "\n",
        "  account_number = 0\n",
        "  account_firstname = \"\"\n",
        "  account_lastname = \"\"\n",
        "  current_balance = 0.0\n",
        "  address = \"\"\n",
        "  email = \"\"\n",
        "\n",
        "  def update_address(new_address):\n",
        "      Accounts.address = new_address\n",
        "\n",
        "  def update_email(new_email):\n",
        "    Accounts.email = new_email"
      ],
      "metadata": {
        "id": "sGll52Xpb6kC"
      },
      "execution_count": 11,
      "outputs": []
    },
    {
      "cell_type": "code",
      "source": [
        "\"\"\"\n",
        "ATM.py\n",
        "\"\"\"\n",
        "class ATM():\n",
        "    serial_number = 0\n",
        "\n",
        "    def deposit(self, account, amount):\n",
        "        account.current_balance = account.current_balance + amount\n",
        "        print(\"Deposit Complete\")\n",
        "\n",
        "    def widthdraw(self, account, amount):\n",
        "        account.current_balance = account.current_balance - amount\n",
        "        print(\"Widthdraw Complete\")\n",
        "\n",
        "    def check_currentbalance(self, account):\n",
        "        print(account.current_balance)"
      ],
      "metadata": {
        "id": "69uJgXiodBts"
      },
      "execution_count": 2,
      "outputs": []
    },
    {
      "cell_type": "code",
      "source": [
        "\"\"\"\n",
        "    main.py\n",
        "\"\"\"\n",
        "\n",
        "\n",
        "Account1 = Accounts()\n",
        "\n",
        "print(\"Account 1\")\n",
        "Account1.account_firstname = \"Royce\"\n",
        "Account1.account_lastname = \"Chua\"\n",
        "Account1.current_balance = 1000\n",
        "Account1.address = \"Silver Street Quezon City\"\n",
        "Account1.email = \"roycechua123@gmail.com\"\n",
        "\n",
        "print(Account1.account_firstname)\n",
        "print(Account1.account_lastname)\n",
        "print(Account1.current_balance)\n",
        "print(Account1.address)\n",
        "print(Account1.email)\n",
        "\n",
        "print()\n",
        "\n",
        "Account2 = Accounts()\n",
        "Account2.account_firstname = \"John\"\n",
        "Account2.account_lastname = \"Doe\"\n",
        "Account2.current_balance = 2000\n",
        "Account2.address = \"Gold Street Quezon City\"\n",
        "Account2.email = \"johndoe@yahoo.com\"\n",
        "\n",
        "print(\"Account 2\")\n",
        "print(Account2.account_firstname)\n",
        "print(Account2.account_lastname)\n",
        "print(Account2.current_balance)\n",
        "print(Account2.address)\n",
        "print(Account2.email)\n"
      ],
      "metadata": {
        "colab": {
          "base_uri": "https://localhost:8080/"
        },
        "id": "zax17SwFdJhp",
        "outputId": "01d56a64-06c3-442a-dbf5-cf532b38dfc9"
      },
      "execution_count": 3,
      "outputs": [
        {
          "output_type": "stream",
          "name": "stdout",
          "text": [
            "Account 1\n",
            "Royce\n",
            "Chua\n",
            "1000\n",
            "Silver Street Quezon City\n",
            "roycechua123@gmail.com\n",
            "\n",
            "Account 2\n",
            "John\n",
            "Doe\n",
            "2000\n",
            "Gold Street Quezon City\n",
            "johndoe@yahoo.com\n"
          ]
        }
      ]
    },
    {
      "cell_type": "code",
      "source": [
        "\"\"\"\n",
        "    main.py\n",
        "\"\"\"\n",
        "\n",
        "Account1 = Accounts()\n",
        "\n",
        "print(\"Account 1\")\n",
        "Account1.account_firstname = \"Royce\"\n",
        "Account1.account_lastname = \"Chua\"\n",
        "Account1.current_balance = 1000\n",
        "Account1.address = \"Silver Street Quezon City\"\n",
        "Account1.email = \"roycechua123@gmail.com\"\n",
        "\n",
        "print(Account1.account_firstname)\n",
        "print(Account1.account_lastname)\n",
        "print(Account1.current_balance)\n",
        "print(Account1.address)\n",
        "print(Account1.email)\n",
        "\n",
        "print()\n",
        "\n",
        "Account2 = Accounts()\n",
        "Account2.account_firstname = \"John\"\n",
        "Account2.account_lastname = \"Doe\"\n",
        "Account2.current_balance = 2000\n",
        "Account2.address = \"Gold Street Quezon City\"\n",
        "Account2.email = \"johndoe@yahoo.com\"\n",
        "\n",
        "print(\"Account 2\")\n",
        "print(Account2.account_firstname)\n",
        "print(Account2.account_lastname)\n",
        "print(Account2.current_balance)\n",
        "print(Account2.address)\n",
        "print(Account2.email)"
      ],
      "metadata": {
        "colab": {
          "base_uri": "https://localhost:8080/"
        },
        "id": "IPhXxrr9e5mc",
        "outputId": "dbfbc8be-1c95-4f5b-9659-313f619033a2"
      },
      "execution_count": 4,
      "outputs": [
        {
          "output_type": "stream",
          "name": "stdout",
          "text": [
            "Account 1\n",
            "Royce\n",
            "Chua\n",
            "1000\n",
            "Silver Street Quezon City\n",
            "roycechua123@gmail.com\n",
            "\n",
            "Account 2\n",
            "John\n",
            "Doe\n",
            "2000\n",
            "Gold Street Quezon City\n",
            "johndoe@yahoo.com\n"
          ]
        }
      ]
    },
    {
      "cell_type": "code",
      "source": [
        "\"\"\"\n",
        "    main.py\n",
        "\"\"\"\n",
        "\n",
        "Account1 = Accounts()\n",
        "\n",
        "print(\"Account 1\")\n",
        "Account1.account_firstname = \"Royce\"\n",
        "Account1.account_lastname = \"Chua\"\n",
        "Account1.current_balance = 1000\n",
        "Account1.address = \"Silver Street Quezon City\"\n",
        "Account1.email = \"roycechua123@gmail.com\"\n",
        "\n",
        "print(Account1.account_firstname)\n",
        "print(Account1.account_lastname)\n",
        "print(Account1.current_balance)\n",
        "print(Account1.address)\n",
        "print(Account1.email)\n",
        "\n",
        "print()\n",
        "\n",
        "Account2 = Accounts()\n",
        "Account2.account_firstname = \"John\"\n",
        "Account2.account_lastname = \"Doe\"\n",
        "Account2.current_balance = 2000\n",
        "Account2.address = \"Gold Street Quezon City\"\n",
        "Account2.email = \"johndoe@yahoo.com\"\n",
        "\n",
        "print(\"Account 2\")\n",
        "print(Account2.account_firstname)\n",
        "print(Account2.account_lastname)\n",
        "print(Account2.current_balance)\n",
        "print(Account2.address)\n",
        "print(Account2.email)\n",
        "\n",
        "ATM1 = ATM()\n",
        "ATM1.deposit(Account1,500)\n",
        "ATM1.check_currentbalance(Account1)\n",
        "\n",
        "ATM1.deposit(Account2,300)\n",
        "ATM1.check_currentbalance(Account2)\n",
        ""
      ],
      "metadata": {
        "colab": {
          "base_uri": "https://localhost:8080/"
        },
        "id": "QUduzPfsfLN_",
        "outputId": "762f268f-9996-4789-de80-49857c9b0808"
      },
      "execution_count": 5,
      "outputs": [
        {
          "output_type": "stream",
          "name": "stdout",
          "text": [
            "Account 1\n",
            "Royce\n",
            "Chua\n",
            "1000\n",
            "Silver Street Quezon City\n",
            "roycechua123@gmail.com\n",
            "\n",
            "Account 2\n",
            "John\n",
            "Doe\n",
            "2000\n",
            "Gold Street Quezon City\n",
            "johndoe@yahoo.com\n",
            "Deposit Complete\n",
            "1500\n",
            "Deposit Complete\n",
            "2300\n"
          ]
        }
      ]
    },
    {
      "cell_type": "code",
      "source": [
        "\"\"\"\n",
        "Accounts.py\n",
        "\"\"\"\n",
        "class Accounts():\n",
        "  def __init__(self, account_number, account_firstname, account_lastname, current_balance, address, email):\n",
        "\n",
        "    self.account_number =  account_number\n",
        "    self.account_firstname = account_firstname\n",
        "    self.account_lastname = account_lastname\n",
        "    self.current_balance = current_balance\n",
        "    self.address = address\n",
        "    self.email = email\n",
        "\n",
        "  def update_address(self,new_address):\n",
        "\n",
        "    self.address = new_address\n",
        "\n",
        "  def update_email(self,new_email):\n",
        "\n",
        "    self.email = new_email"
      ],
      "metadata": {
        "id": "XfzDqA3FfSH-"
      },
      "execution_count": 6,
      "outputs": []
    },
    {
      "cell_type": "code",
      "source": [
        "\"\"\"\n",
        "main.py\n",
        "\"\"\"\n",
        "\n",
        "Account1 = Accounts(account_number=123456,account_firstname=\"Royce\",\n",
        "                    account_lastname=\"Chua\",current_balance=1000,\n",
        "                    address=\"Silver Street Quezon City\",\n",
        "                    email=\"roycechua123@gmail.com\")\n",
        "\n",
        "print(\"Account 1\")\n",
        "print(Account1.account_firstname)\n",
        "print(Account1.account_lastname)\n",
        "print(Account1.current_balance)\n",
        "print(Account1.address)\n",
        "print(Account1.email)\n",
        "\n",
        "print()\n",
        "\n",
        "Account2 = Accounts(account_number=654321,account_firstname=\"John\",\n",
        "                    account_lastname=\"Doe\", current_balance = 2000, address = \"Gold Street Quezon City\",\n",
        "                    email = \"johndoe@yahoo.com\")\n"
      ],
      "metadata": {
        "colab": {
          "base_uri": "https://localhost:8080/"
        },
        "id": "-rin1400fZUX",
        "outputId": "33d02840-66df-49ac-b657-2de0405e63c2"
      },
      "execution_count": 7,
      "outputs": [
        {
          "output_type": "stream",
          "name": "stdout",
          "text": [
            "Account 1\n",
            "Royce\n",
            "Chua\n",
            "1000\n",
            "Silver Street Quezon City\n",
            "roycechua123@gmail.com\n",
            "\n"
          ]
        }
      ]
    },
    {
      "cell_type": "markdown",
      "source": [
        "SUPPLEMENTARY ACTIVITY"
      ],
      "metadata": {
        "id": "RntAfjGffdYx"
      }
    },
    {
      "cell_type": "code",
      "source": [
        "#1\n",
        "class ATM:\n",
        "    def __init__(self, serial_number):\n",
        "        self.serial_number = serial_number\n",
        "        self.transactions = []"
      ],
      "metadata": {
        "id": "wHPL19knfivv"
      },
      "execution_count": 8,
      "outputs": []
    },
    {
      "cell_type": "code",
      "source": [
        "#2\n",
        "\n",
        "def main():\n",
        "    serial_number = 123456\n",
        "    atm = ATM(serial_number)\n",
        "\n",
        "    print(f\"ATM Serial Number: {atm.serial_number}\")\n",
        "\n",
        "if __name__ == \"__main__\":\n",
        "    main()"
      ],
      "metadata": {
        "colab": {
          "base_uri": "https://localhost:8080/"
        },
        "id": "2aSa6Jy4fumH",
        "outputId": "7bcf1e24-4992-40cf-fbf8-c6ced74c67e9"
      },
      "execution_count": 9,
      "outputs": [
        {
          "output_type": "stream",
          "name": "stdout",
          "text": [
            "ATM Serial Number: 123456\n"
          ]
        }
      ]
    },
    {
      "cell_type": "code",
      "source": [
        "#3\n",
        "class ATM:\n",
        "    def __init__(self, serial_number):\n",
        "        self.serial_number = serial_number\n",
        "        self.transactions = []\n",
        "\n",
        "    def view_transactionsummary(self):\n",
        "        for transaction in self.transactions:\n",
        "            print(transaction)\n"
      ],
      "metadata": {
        "id": "s3e19Ga0fwgO"
      },
      "execution_count": 10,
      "outputs": []
    }
  ]
}