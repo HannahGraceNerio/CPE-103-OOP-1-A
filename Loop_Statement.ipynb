{
  "nbformat": 4,
  "nbformat_minor": 0,
  "metadata": {
    "colab": {
      "provenance": [],
      "authorship_tag": "ABX9TyMJwGEl78sRAHF7LwZy6M0V",
      "include_colab_link": true
    },
    "kernelspec": {
      "name": "python3",
      "display_name": "Python 3"
    },
    "language_info": {
      "name": "python"
    }
  },
  "cells": [
    {
      "cell_type": "markdown",
      "metadata": {
        "id": "view-in-github",
        "colab_type": "text"
      },
      "source": [
        "<a href=\"https://colab.research.google.com/github/HannahGraceNerio/CPE-103-OOP-1-A/blob/main/Loop_Statement.ipynb\" target=\"_parent\"><img src=\"https://colab.research.google.com/assets/colab-badge.svg\" alt=\"Open In Colab\"/></a>"
      ]
    },
    {
      "cell_type": "code",
      "execution_count": 1,
      "metadata": {
        "colab": {
          "base_uri": "https://localhost:8080/"
        },
        "id": "IdLaW95Y11ha",
        "outputId": "3589d3c8-c6e7-4170-f9c5-330316f50ba2"
      },
      "outputs": [
        {
          "output_type": "stream",
          "name": "stdout",
          "text": [
            "Sunday\n",
            "Monday\n",
            "Tuesday\n",
            "Wednesday\n",
            "Thursday\n",
            "Friday\n",
            "Saturday\n"
          ]
        }
      ],
      "source": [
        "week = [\"Sunday\", \"Monday\", \"Tuesday\", \"Wednesday\", \"Thursday\", \"Friday\", \"Saturday\"]\n",
        "for x in week:\n",
        "  print (x)"
      ]
    },
    {
      "cell_type": "code",
      "source": [
        "week = [\"Sunday\", \"Monday\", \"Tuesday\", \"Wednesday\", \"Thursday\", \"Friday\", \"Saturday\"]\n",
        "for x in week:\n",
        "  print (x)\n",
        "  if x == \"Thursday\":\n",
        "    break"
      ],
      "metadata": {
        "colab": {
          "base_uri": "https://localhost:8080/"
        },
        "id": "Bop0H0cR2tqX",
        "outputId": "3b39d465-3b1f-43d3-fb42-d11eff574e09"
      },
      "execution_count": 3,
      "outputs": [
        {
          "output_type": "stream",
          "name": "stdout",
          "text": [
            "Sunday\n",
            "Monday\n",
            "Tuesday\n",
            "Wednesday\n",
            "Thursday\n"
          ]
        }
      ]
    },
    {
      "cell_type": "code",
      "source": [
        "week = [\"Sunday\", \"Monday\", \"Tuesday\", \"Wednesday\", \"Thursday\", \"Friday\", \"Saturday\"]\n",
        "for x in week:\n",
        "  if x == \"Thursday\":\n",
        "    break\n",
        "  print (x)"
      ],
      "metadata": {
        "colab": {
          "base_uri": "https://localhost:8080/"
        },
        "id": "ZEFeUdVH2-Nn",
        "outputId": "fb84cc80-e632-458d-b06e-74d630216f6a"
      },
      "execution_count": 4,
      "outputs": [
        {
          "output_type": "stream",
          "name": "stdout",
          "text": [
            "Sunday\n",
            "Monday\n",
            "Tuesday\n",
            "Wednesday\n"
          ]
        }
      ]
    },
    {
      "cell_type": "markdown",
      "source": [
        "LOOPING THROUGH A STRING"
      ],
      "metadata": {
        "id": "TRT9PCmy3138"
      }
    },
    {
      "cell_type": "code",
      "source": [
        "for x in \"week\":\n",
        "  print (x)"
      ],
      "metadata": {
        "colab": {
          "base_uri": "https://localhost:8080/"
        },
        "id": "UGqyBcaP3gHv",
        "outputId": "088c646b-68d0-4eb7-da9a-ee3401a3ac53"
      },
      "execution_count": 7,
      "outputs": [
        {
          "output_type": "stream",
          "name": "stdout",
          "text": [
            "w\n",
            "e\n",
            "e\n",
            "k\n"
          ]
        }
      ]
    },
    {
      "cell_type": "markdown",
      "source": [
        "RANGE FUNCTION"
      ],
      "metadata": {
        "id": "aks6QZxL36w3"
      }
    },
    {
      "cell_type": "code",
      "source": [
        "for x in range (6):\n",
        "  print (x)"
      ],
      "metadata": {
        "colab": {
          "base_uri": "https://localhost:8080/"
        },
        "id": "0eGXQznU38n0",
        "outputId": "a5fc48c6-2542-4e45-a545-1a13a6f8565f"
      },
      "execution_count": 54,
      "outputs": [
        {
          "output_type": "stream",
          "name": "stdout",
          "text": [
            "0\n",
            "1\n",
            "2\n",
            "3\n",
            "4\n",
            "5\n"
          ]
        }
      ]
    },
    {
      "cell_type": "code",
      "source": [
        "for x in range (2,6):\n",
        "  print (x)"
      ],
      "metadata": {
        "colab": {
          "base_uri": "https://localhost:8080/"
        },
        "id": "MXEJu9oi4XAE",
        "outputId": "28957e82-594e-4198-b224-9ab2a593fb4b"
      },
      "execution_count": 9,
      "outputs": [
        {
          "output_type": "stream",
          "name": "stdout",
          "text": [
            "2\n",
            "3\n",
            "4\n",
            "5\n"
          ]
        }
      ]
    },
    {
      "cell_type": "markdown",
      "source": [
        "NESTED LOOPS"
      ],
      "metadata": {
        "id": "upqRfoNQ4_Qk"
      }
    },
    {
      "cell_type": "code",
      "source": [
        "adjective = [\"red\", \"big\",\"tasty\" ]\n",
        "fruits = [\"apple\", \"banana\", \"cherry\"]\n",
        "for x in adjective:\n",
        "  for y in fruits:\n",
        "    print (x,y)"
      ],
      "metadata": {
        "colab": {
          "base_uri": "https://localhost:8080/"
        },
        "id": "_L2k7r7R5A5-",
        "outputId": "f7c32c66-07b7-4e70-ba10-f7215ea2f504"
      },
      "execution_count": 10,
      "outputs": [
        {
          "output_type": "stream",
          "name": "stdout",
          "text": [
            "red apple\n",
            "red banana\n",
            "red cherry\n",
            "big apple\n",
            "big banana\n",
            "big cherry\n",
            "tasty apple\n",
            "tasty banana\n",
            "tasty cherry\n"
          ]
        }
      ]
    },
    {
      "cell_type": "markdown",
      "source": [
        "PYHTON WHILE LOOP"
      ],
      "metadata": {
        "id": "GGlNaiao6Cwa"
      }
    },
    {
      "cell_type": "code",
      "source": [
        "i = 1\n",
        "while i < 6:\n",
        "  print (i)\n",
        "  i += 1 #i = i+1"
      ],
      "metadata": {
        "colab": {
          "base_uri": "https://localhost:8080/"
        },
        "id": "N5ji1Rd86HX-",
        "outputId": "d3c0960d-743b-4791-cda8-4073a717ed3f"
      },
      "execution_count": 12,
      "outputs": [
        {
          "output_type": "stream",
          "name": "stdout",
          "text": [
            "1\n",
            "2\n",
            "3\n",
            "4\n",
            "5\n"
          ]
        }
      ]
    },
    {
      "cell_type": "markdown",
      "source": [
        "BREAK STATEMENT"
      ],
      "metadata": {
        "id": "NZ04QZY17HmF"
      }
    },
    {
      "cell_type": "code",
      "source": [
        "i = 1\n",
        "while i<6:\n",
        "  print(i)\n",
        "  if i == 3:\n",
        "    break\n",
        "  i +=1 #1 - 1+1"
      ],
      "metadata": {
        "colab": {
          "base_uri": "https://localhost:8080/"
        },
        "id": "zPWoZec88xUZ",
        "outputId": "dc67a164-2a9c-46f3-c3dd-ec72312823dd"
      },
      "execution_count": 78,
      "outputs": [
        {
          "output_type": "stream",
          "name": "stdout",
          "text": [
            "1\n",
            "2\n",
            "3\n"
          ]
        }
      ]
    },
    {
      "cell_type": "markdown",
      "source": [
        "THE CONTINUE STATEMENT"
      ],
      "metadata": {
        "id": "AK7_bzrN8AOU"
      }
    },
    {
      "cell_type": "code",
      "source": [
        "i = 0\n",
        "while i<6:\n",
        "  i+=1\n",
        "  if i == 3:\n",
        "   continue\n",
        "  if i == 6:\n",
        "    break\n",
        "  print (i)"
      ],
      "metadata": {
        "colab": {
          "base_uri": "https://localhost:8080/"
        },
        "id": "q4u2JFiv8C8A",
        "outputId": "167d5465-7d53-45f3-b763-ee6b5f802ffd"
      },
      "execution_count": 56,
      "outputs": [
        {
          "output_type": "stream",
          "name": "stdout",
          "text": [
            "1\n",
            "2\n",
            "4\n",
            "5\n"
          ]
        }
      ]
    },
    {
      "cell_type": "markdown",
      "source": [
        "THE ELSE STATEMENT"
      ],
      "metadata": {
        "id": "TiHvvqNlButo"
      }
    },
    {
      "cell_type": "code",
      "source": [
        "i = 1\n",
        "while i< 6:\n",
        "  print (i)\n",
        "  i += 1\n",
        "else:\n",
        "    print (\"i is no longer less than 6\")"
      ],
      "metadata": {
        "id": "WYcQBWwwBxh4",
        "outputId": "00e30c0c-d84c-480d-fab5-a08eca461fd4",
        "colab": {
          "base_uri": "https://localhost:8080/"
        }
      },
      "execution_count": 28,
      "outputs": [
        {
          "output_type": "stream",
          "name": "stdout",
          "text": [
            "1\n",
            "2\n",
            "3\n",
            "4\n",
            "5\n",
            "i is no longer less than 6\n"
          ]
        }
      ]
    },
    {
      "cell_type": "markdown",
      "source": [
        "APPLICATION 1"
      ],
      "metadata": {
        "id": "rnkuykQtCWfp"
      }
    },
    {
      "cell_type": "code",
      "source": [
        "i = -1\n",
        "while i< 10:\n",
        "  i+=1\n",
        "  print (\"Hello\", i)"
      ],
      "metadata": {
        "id": "0dXDiKDuCYtw",
        "outputId": "6e04726e-c9a6-4707-eab2-ac70e2481d99",
        "colab": {
          "base_uri": "https://localhost:8080/"
        }
      },
      "execution_count": 52,
      "outputs": [
        {
          "output_type": "stream",
          "name": "stdout",
          "text": [
            "Hello 0\n",
            "Hello 1\n",
            "Hello 2\n",
            "Hello 3\n",
            "Hello 4\n",
            "Hello 5\n",
            "Hello 6\n",
            "Hello 7\n",
            "Hello 8\n",
            "Hello 9\n",
            "Hello 10\n"
          ]
        }
      ]
    },
    {
      "cell_type": "markdown",
      "source": [
        "PRACTICAL TEST"
      ],
      "metadata": {
        "id": "gwGEwa-tODEt"
      }
    },
    {
      "cell_type": "code",
      "source": [
        "i = 3\n",
        "while i < 10:\n",
        "  print (i)\n",
        "  i+=1"
      ],
      "metadata": {
        "id": "tUnbITdpR-SA",
        "outputId": "9dc40bee-d685-4421-bd05-58f3b7d4dc0e",
        "colab": {
          "base_uri": "https://localhost:8080/"
        }
      },
      "execution_count": 73,
      "outputs": [
        {
          "output_type": "stream",
          "name": "stdout",
          "text": [
            "3\n",
            "4\n",
            "5\n",
            "6\n",
            "7\n",
            "8\n",
            "9\n"
          ]
        }
      ]
    }
  ]
}